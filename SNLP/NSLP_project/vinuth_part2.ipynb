{
 "cells": [
  {
   "cell_type": "code",
   "execution_count": 30,
   "metadata": {},
   "outputs": [],
   "source": [
    "import pandas as pd\n",
    "import numpy as np\n",
    "from scipy import spatial"
   ]
  },
  {
   "cell_type": "code",
   "execution_count": 31,
   "metadata": {},
   "outputs": [],
   "source": [
    "BOT = pd.read_json(\"GLBot.json\", encoding='utf-8')"
   ]
  },
  {
   "cell_type": "code",
   "execution_count": 32,
   "metadata": {},
   "outputs": [],
   "source": [
    "patterns = []\n",
    "pattern_to_response = {}\n",
    "for intent in BOT.intents:\n",
    "    for pattern in intent['patterns']:\n",
    "        patterns.append(pattern)\n",
    "        pattern_to_response[pattern] = intent['responses']"
   ]
  },
  {
   "cell_type": "code",
   "execution_count": 33,
   "metadata": {},
   "outputs": [],
   "source": [
    "embeddings_dict = {}\n",
    "with open(\"./glove.6B/glove.6B.300d.txt\", 'r') as f:\n",
    "    for line in f:\n",
    "        values = line.split()\n",
    "        word = values[0]\n",
    "        vector = np.asarray(values[1:], \"float32\")\n",
    "        embeddings_dict[word] = vector"
   ]
  },
  {
   "cell_type": "code",
   "execution_count": 34,
   "metadata": {},
   "outputs": [],
   "source": [
    "def new_doc_vec():\n",
    "    doc_vec = []\n",
    "    for i in range(300):\n",
    "        doc_vec.append(0)\n",
    "    return doc_vec\n",
    "\n",
    "patterns_vec = []\n",
    "\n",
    "\n",
    "\n",
    "def doc_2_vec(text):\n",
    "    text = text.lower()\n",
    "    words = text.split()\n",
    "    doc2vec = new_doc_vec()\n",
    "    for word in words:\n",
    "        try:\n",
    "            doc2vec = (np.array(embeddings_dict[word]) + np.array(doc2vec)) / 2\n",
    "        except:\n",
    "            1+2\n",
    "            \n",
    "            \n",
    "    return doc2vec"
   ]
  },
  {
   "cell_type": "code",
   "execution_count": 35,
   "metadata": {},
   "outputs": [],
   "source": [
    "def response_glove(input_text):\n",
    "    input_vec = doc_2_vec(input_text)\n",
    "    glove_distances = []\n",
    "    distance_to_pattern = {}\n",
    "    for pattern in patterns:\n",
    "        doc_vec = doc_2_vec(pattern)\n",
    "        distance = spatial.distance.cosine(doc_vec, input_vec)\n",
    "        glove_distances.append(distance)\n",
    "        distance_to_pattern[distance] = pattern\n",
    "    \n",
    "    glove_distances = [x for x in glove_distances if str(x) != 'nan']\n",
    "    glove_distances = sorted(glove_distances)\n",
    "\n",
    "    resulting_pattern_text = distance_to_pattern[glove_distances[0]]\n",
    "    return pattern_to_response[resulting_pattern_text]"
   ]
  },
  {
   "cell_type": "code",
   "execution_count": 36,
   "metadata": {},
   "outputs": [
    {
     "name": "stdout",
     "output_type": "stream",
     "text": [
      "['Hello! how can i help you ?']\n",
      "['Link: Neural Nets wiki']\n",
      "['Link: Machine Learning wiki ']\n",
      "['Please use respectful words']\n",
      "['Hello! how can i help you ?']\n",
      "['Tarnsferring the request to your PM']\n",
      "['I hope I was able to assist you, Good Bye']\n"
     ]
    }
   ],
   "source": [
    "print(response_glove(\"bro what is happening\"))\n",
    "print(response_glove(\"I want to have deep understanding of deep learning\"))\n",
    "print(response_glove(\"I want to have deep understanding of machine learning\"))\n",
    "print(response_glove(\"fuck you\"))\n",
    "print(response_glove(\"whats up dude how are you doing\"))\n",
    "print(response_glove(\"you are not able to solve my problem\"))\n",
    "print(response_glove(\"ok dude see you soon\"))"
   ]
  },
  {
   "cell_type": "code",
   "execution_count": null,
   "metadata": {},
   "outputs": [],
   "source": []
  }
 ],
 "metadata": {
  "kernelspec": {
   "display_name": "Python 3",
   "language": "python",
   "name": "python3"
  },
  "language_info": {
   "codemirror_mode": {
    "name": "ipython",
    "version": 3
   },
   "file_extension": ".py",
   "mimetype": "text/x-python",
   "name": "python",
   "nbconvert_exporter": "python",
   "pygments_lexer": "ipython3",
   "version": "3.8.2"
  }
 },
 "nbformat": 4,
 "nbformat_minor": 4
}
