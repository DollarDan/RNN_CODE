{
 "cells": [
  {
   "cell_type": "code",
   "execution_count": 95,
   "metadata": {},
   "outputs": [],
   "source": [
    "########################################IMPORTS FOR READING IMAGES FROM A FOLDER ########################################\n",
    "from pathlib import Path\n",
    "import glob\n",
    "import pandas as pd\n",
    "import numpy as np\n",
    "from PIL import Image\n",
    "from resizeimage import resizeimage\n",
    "import matplotlib as mp\n",
    "import matplotlib.pyplot as plt\n",
    "import cv2\n",
    "import os\n",
    "\n",
    "#######################################################General Imports######################################################\n",
    "import numpy as np\n",
    "import pandas as pd\n",
    "import matplotlib as mp\n",
    "import matplotlib.pyplot as plt\n",
    "from sklearn.model_selection import train_test_split\n",
    "from sklearn.metrics import r2_score\n",
    "from sklearn.metrics import accuracy_score\n",
    "from sklearn.metrics import precision_score\n",
    "from sklearn.metrics import recall_score\n",
    "from sklearn.metrics import confusion_matrix\n",
    "from sklearn.metrics import f1_score\n",
    "from sklearn.metrics import classification_report\n",
    "from sklearn.preprocessing import LabelEncoder\n",
    "from sklearn.preprocessing import OneHotEncoder\n",
    "from sklearn.metrics import mean_absolute_error\n",
    "from sklearn.feature_extraction.text import CountVectorizer\n",
    "from sklearn.feature_extraction.text import TfidfVectorizer\n",
    "from tensorflow.keras import backend as K\n",
    "from catboost import CatBoostClassifier\n",
    "from sklearn.tree import DecisionTreeClassifier\n",
    "from sklearn.ensemble import RandomForestClassifier\n",
    "from sklearn.multiclass import OneVsRestClassifier\n",
    "from sklearn.preprocessing import MultiLabelBinarizer\n",
    "from sklearn.preprocessing import OneHotEncoder\n",
    "from sklearn.linear_model import LogisticRegression\n",
    "import seaborn as sns\n",
    "import tensorflow as tf\n",
    "from tensorflow.keras import layers\n",
    "import pydot\n",
    "import pydotplus\n",
    "from pydotplus import graphviz\n",
    "from IPython.display import Image \n",
    "import os\n",
    "import math\n",
    "import h5py\n",
    "import tkinter as tk\n",
    "from tkinter import ttk\n",
    "import json\n",
    "import re\n",
    "from gensim.models import Word2Vec\n",
    "from gensim.test.utils import common_texts\n",
    "import multiprocessing\n",
    "from tensorflow.keras.preprocessing.text import Tokenizer\n",
    "from tensorflow.keras.layers import LeakyReLU\n",
    "from sklearn.feature_extraction.text import TfidfVectorizer"
   ]
  },
  {
   "cell_type": "code",
   "execution_count": 109,
   "metadata": {},
   "outputs": [],
   "source": [
    "##################################################################################################"
   ]
  },
  {
   "cell_type": "code",
   "execution_count": 414,
   "metadata": {},
   "outputs": [],
   "source": [
    "#Reading Data\n",
    "df = pd.read_csv('blogtext.csv')"
   ]
  },
  {
   "cell_type": "code",
   "execution_count": 415,
   "metadata": {},
   "outputs": [],
   "source": [
    "#Dataset is Too Huge to Process....Considering only first 5000 Records\n",
    "df = df[0:5000]"
   ]
  },
  {
   "cell_type": "code",
   "execution_count": 340,
   "metadata": {},
   "outputs": [
    {
     "data": {
      "text/html": [
       "<div>\n",
       "<style scoped>\n",
       "    .dataframe tbody tr th:only-of-type {\n",
       "        vertical-align: middle;\n",
       "    }\n",
       "\n",
       "    .dataframe tbody tr th {\n",
       "        vertical-align: top;\n",
       "    }\n",
       "\n",
       "    .dataframe thead th {\n",
       "        text-align: right;\n",
       "    }\n",
       "</style>\n",
       "<table border=\"1\" class=\"dataframe\">\n",
       "  <thead>\n",
       "    <tr style=\"text-align: right;\">\n",
       "      <th></th>\n",
       "      <th>id</th>\n",
       "      <th>gender</th>\n",
       "      <th>age</th>\n",
       "      <th>topic</th>\n",
       "      <th>sign</th>\n",
       "      <th>date</th>\n",
       "      <th>text</th>\n",
       "    </tr>\n",
       "  </thead>\n",
       "  <tbody>\n",
       "    <tr>\n",
       "      <th>4691</th>\n",
       "      <td>4262796</td>\n",
       "      <td>male</td>\n",
       "      <td>17</td>\n",
       "      <td>indUnk</td>\n",
       "      <td>Aquarius</td>\n",
       "      <td>17,August,2004</td>\n",
       "      <td>I would normally put this in the commen...</td>\n",
       "    </tr>\n",
       "    <tr>\n",
       "      <th>1766</th>\n",
       "      <td>589736</td>\n",
       "      <td>male</td>\n",
       "      <td>35</td>\n",
       "      <td>Technology</td>\n",
       "      <td>Aries</td>\n",
       "      <td>05,August,2004</td>\n",
       "      <td>I am sadly unable to attend the Cir...</td>\n",
       "    </tr>\n",
       "    <tr>\n",
       "      <th>2645</th>\n",
       "      <td>589736</td>\n",
       "      <td>male</td>\n",
       "      <td>35</td>\n",
       "      <td>Technology</td>\n",
       "      <td>Aries</td>\n",
       "      <td>05,August,2004</td>\n",
       "      <td>JLS - i've not heard of the differe...</td>\n",
       "    </tr>\n",
       "    <tr>\n",
       "      <th>660</th>\n",
       "      <td>3176655</td>\n",
       "      <td>male</td>\n",
       "      <td>24</td>\n",
       "      <td>Engineering</td>\n",
       "      <td>Libra</td>\n",
       "      <td>03,July,2004</td>\n",
       "      <td>So did you catch Michelle Kwa...</td>\n",
       "    </tr>\n",
       "    <tr>\n",
       "      <th>1363</th>\n",
       "      <td>3413825</td>\n",
       "      <td>female</td>\n",
       "      <td>25</td>\n",
       "      <td>Student</td>\n",
       "      <td>Taurus</td>\n",
       "      <td>23,May,2004</td>\n",
       "      <td>Kill Bill was actually pretty goo...</td>\n",
       "    </tr>\n",
       "  </tbody>\n",
       "</table>\n",
       "</div>"
      ],
      "text/plain": [
       "           id  gender  age        topic      sign            date  \\\n",
       "4691  4262796    male   17       indUnk  Aquarius  17,August,2004   \n",
       "1766   589736    male   35   Technology     Aries  05,August,2004   \n",
       "2645   589736    male   35   Technology     Aries  05,August,2004   \n",
       "660   3176655    male   24  Engineering     Libra    03,July,2004   \n",
       "1363  3413825  female   25      Student    Taurus     23,May,2004   \n",
       "\n",
       "                                                   text  \n",
       "4691         I would normally put this in the commen...  \n",
       "1766             I am sadly unable to attend the Cir...  \n",
       "2645             JLS - i've not heard of the differe...  \n",
       "660                    So did you catch Michelle Kwa...  \n",
       "1363               Kill Bill was actually pretty goo...  "
      ]
     },
     "execution_count": 340,
     "metadata": {},
     "output_type": "execute_result"
    }
   ],
   "source": [
    "df.sample(5)"
   ]
  },
  {
   "cell_type": "code",
   "execution_count": null,
   "metadata": {},
   "outputs": [],
   "source": []
  },
  {
   "cell_type": "code",
   "execution_count": 341,
   "metadata": {},
   "outputs": [],
   "source": [
    "############################################DATA PROCESSING ################################################################"
   ]
  },
  {
   "cell_type": "code",
   "execution_count": 416,
   "metadata": {},
   "outputs": [],
   "source": [
    "###############################################Generic Functions########################\n",
    "def age(x):\n",
    "     if((x >= 13) and (x <= 17)):\n",
    "        return 1\n",
    "     if((x >= 23) and (x <= 27)):\n",
    "        return 2\n",
    "     if((x >= 33) and (x <= 48)):\n",
    "        return 3\n",
    "    \n",
    "################################################Dropping Unnecessary coluns##############\n",
    "df = df.drop('date', axis=1)\n",
    "df = df.drop('id', axis=1)\n",
    "df = df.drop('sign', axis=1)\n",
    "##################################################Labelling Columns######################\n",
    "df['gender'] = df['gender'].apply(lambda x : 1 if(x=='male') else 0)\n",
    "df['gender'] = df['gender'].astype('int32')\n",
    "df['age'] = df['age'].apply(age).astype(int)\n",
    "le = LabelEncoder()\n",
    "df['topic'] = le.fit_transform(df['topic'])\n",
    "le_name_mapping = dict(zip(le.classes_, le.transform(le.classes_)))\n",
    "#print(le_name_mapping)\n",
    "\n",
    "#Preprocess data\n",
    "#convert all text to lowercase - use .lower()\n",
    "#select only numbers, alphabets, and #+_ from text - use re.sub()\n",
    "#strip all the text - use .strip() (this is for removing extra spaces)\n",
    "df['text'] = df['text'].apply(lambda s: s.lower())\n",
    "df['text'] = df['text'].apply(lambda s: re.sub('[^0-9a-z #+_]','',s))\n",
    "df['text'] = df['text'].apply(lambda s: s.strip())\n",
    "\n",
    "##################################################Splitting Data#########################\n",
    "\n",
    "x_train, x_test, y_train, y_test = train_test_split(df['text'],df.drop('text', axis=1),test_size=0.2, random_state=10)\n",
    "\n",
    "##################################################Applying CountVectorizer on x_train #############\n",
    "vec = CountVectorizer(max_df=0.90, min_df=5,stop_words='english')\n",
    "#vec = TfidfVectorizer()\n",
    "x_train = vec.fit_transform(x_train)\n",
    "x_test = vec.transform(x_test)\n",
    "###################################################One Hot Encoding y_train ######################\n",
    "enc = OneHotEncoder()\n",
    "#enc = MultiLabelBinarizer()\n",
    "y_train = enc.fit_transform(y_train)\n",
    "y_test = enc.transform(y_test)"
   ]
  },
  {
   "cell_type": "code",
   "execution_count": null,
   "metadata": {},
   "outputs": [],
   "source": [
    "#OneVsRestClassifier\n",
    "#________________________________________________\n",
    "\n",
    "#Algorithms such as the Perceptron, Logistic Regression, and Support Vector Machines were designed \n",
    "#for binary classification and do not natively support classification tasks with more than two classes.\n",
    "\n",
    "#The One-vs-Rest strategy splits a multi-class classification into one binary classification problem per class.\n",
    "#The One-vs-One strategy splits a multi-class classification into one binary classification problem per each pair of classes.\n"
   ]
  },
  {
   "cell_type": "code",
   "execution_count": null,
   "metadata": {},
   "outputs": [],
   "source": [
    "######################################CountVectorizer with DecissionTree####################################################"
   ]
  },
  {
   "cell_type": "code",
   "execution_count": null,
   "metadata": {},
   "outputs": [],
   "source": [
    "#################################################Decission Tree############################################################"
   ]
  },
  {
   "cell_type": "code",
   "execution_count": 24,
   "metadata": {},
   "outputs": [],
   "source": [
    "ovr = OneVsRestClassifier(estimator=DecisionTreeClassifier(criterion='entropy',max_depth=10,random_state=10))"
   ]
  },
  {
   "cell_type": "code",
   "execution_count": 25,
   "metadata": {},
   "outputs": [
    {
     "data": {
      "text/plain": [
       "OneVsRestClassifier(estimator=DecisionTreeClassifier(criterion='entropy',\n",
       "                                                     max_depth=10,\n",
       "                                                     random_state=10))"
      ]
     },
     "execution_count": 25,
     "metadata": {},
     "output_type": "execute_result"
    }
   ],
   "source": [
    " ovr.fit(x_train, y_train)"
   ]
  },
  {
   "cell_type": "code",
   "execution_count": 28,
   "metadata": {},
   "outputs": [
    {
     "name": "stdout",
     "output_type": "stream",
     "text": [
      "Train Accuracy  : 0.592\n",
      "\n",
      "Test Accuracy   : 0.483\n",
      "\n",
      "Precision Score : [0.75432526 0.81575246 0.72       0.51369863 0.8161435  0.\n",
      " 1.         1.         0.33333333 0.42857143 0.375      0.\n",
      " 0.5        0.57142857 0.33333333 0.92307692 0.         1.\n",
      " 0.25       0.         1.         0.4        0.61403509 0.71724138\n",
      " 0.81410256]\n",
      "\n",
      "Recall Score    : [0.62464183 0.89093702 0.28125    0.390625   0.88636364 0.\n",
      " 0.44444444 0.25       1.         0.28571429 0.375      0.\n",
      " 0.17857143 0.42105263 0.16666667 0.66666667 0.         1.\n",
      " 0.125      0.         0.36363636 0.28571429 0.28       0.92444444\n",
      " 0.47211896]\n",
      "\n",
      "F1 Score        : [0.68338558 0.85168869 0.40449438 0.44378698 0.84980545 0.\n",
      " 0.61538462 0.4        0.5        0.34285714 0.375      0.\n",
      " 0.26315789 0.48484848 0.22222222 0.77419355 0.         1.\n",
      " 0.16666667 0.         0.53333333 0.33333333 0.38461538 0.80776699\n",
      " 0.59764706]\n",
      "\n"
     ]
    }
   ],
   "source": [
    "y_pred = ovr.predict(x_test)\n",
    "print(\"Train Accuracy  : {0}\\n\".format(accuracy_score(y_train, ovr.predict(x_train))))\n",
    "print(\"Test Accuracy   : {0}\\n\".format(accuracy_score(y_test, y_pred)))\n",
    "print(\"Precision Score : {0}\\n\".format(precision_score(y_test,y_pred, average=None)))\n",
    "print(\"Recall Score    : {0}\\n\".format(recall_score(y_test,y_pred, average=None)))\n",
    "print(\"F1 Score        : {0}\\n\".format(f1_score(y_test,y_pred, average=None)))"
   ]
  },
  {
   "cell_type": "code",
   "execution_count": null,
   "metadata": {},
   "outputs": [],
   "source": [
    "################ DECISSION TREE GIVING AN ACCURACY OF : 48%"
   ]
  },
  {
   "cell_type": "code",
   "execution_count": null,
   "metadata": {},
   "outputs": [],
   "source": []
  },
  {
   "cell_type": "code",
   "execution_count": null,
   "metadata": {},
   "outputs": [],
   "source": []
  },
  {
   "cell_type": "code",
   "execution_count": null,
   "metadata": {},
   "outputs": [],
   "source": [
    "############################################CountVecotrizer with CatBoost###################################################"
   ]
  },
  {
   "cell_type": "code",
   "execution_count": 21,
   "metadata": {},
   "outputs": [],
   "source": [
    "#################################################CAT BOOST##################################################################"
   ]
  },
  {
   "cell_type": "code",
   "execution_count": 38,
   "metadata": {},
   "outputs": [],
   "source": [
    "ovr = OneVsRestClassifier(estimator=CatBoostClassifier(iterations=10,random_state=1))"
   ]
  },
  {
   "cell_type": "code",
   "execution_count": 39,
   "metadata": {},
   "outputs": [
    {
     "name": "stdout",
     "output_type": "stream",
     "text": [
      "Learning rate set to 0.5\n",
      "0:\tlearn: 0.5428331\ttotal: 115ms\tremaining: 1.04s\n",
      "1:\tlearn: 0.4979006\ttotal: 234ms\tremaining: 937ms\n",
      "2:\tlearn: 0.4718545\ttotal: 356ms\tremaining: 830ms\n",
      "3:\tlearn: 0.4518772\ttotal: 475ms\tremaining: 712ms\n",
      "4:\tlearn: 0.4345782\ttotal: 603ms\tremaining: 603ms\n",
      "5:\tlearn: 0.4240319\ttotal: 727ms\tremaining: 485ms\n",
      "6:\tlearn: 0.4136154\ttotal: 848ms\tremaining: 363ms\n",
      "7:\tlearn: 0.4070950\ttotal: 973ms\tremaining: 243ms\n",
      "8:\tlearn: 0.3997001\ttotal: 1.1s\tremaining: 122ms\n",
      "9:\tlearn: 0.3915500\ttotal: 1.24s\tremaining: 0us\n",
      "Learning rate set to 0.5\n",
      "0:\tlearn: 0.5428331\ttotal: 132ms\tremaining: 1.19s\n",
      "1:\tlearn: 0.4979006\ttotal: 252ms\tremaining: 1.01s\n",
      "2:\tlearn: 0.4718545\ttotal: 374ms\tremaining: 873ms\n",
      "3:\tlearn: 0.4518772\ttotal: 492ms\tremaining: 738ms\n",
      "4:\tlearn: 0.4345782\ttotal: 610ms\tremaining: 610ms\n",
      "5:\tlearn: 0.4240319\ttotal: 726ms\tremaining: 484ms\n",
      "6:\tlearn: 0.4136154\ttotal: 848ms\tremaining: 364ms\n",
      "7:\tlearn: 0.4070950\ttotal: 965ms\tremaining: 241ms\n",
      "8:\tlearn: 0.3997001\ttotal: 1.08s\tremaining: 121ms\n",
      "9:\tlearn: 0.3915500\ttotal: 1.2s\tremaining: 0us\n",
      "Learning rate set to 0.5\n",
      "0:\tlearn: 0.4869384\ttotal: 113ms\tremaining: 1.01s\n",
      "1:\tlearn: 0.4140903\ttotal: 234ms\tremaining: 937ms\n",
      "2:\tlearn: 0.3820327\ttotal: 359ms\tremaining: 838ms\n",
      "3:\tlearn: 0.3645145\ttotal: 478ms\tremaining: 717ms\n",
      "4:\tlearn: 0.3321164\ttotal: 604ms\tremaining: 604ms\n",
      "5:\tlearn: 0.3239053\ttotal: 725ms\tremaining: 483ms\n",
      "6:\tlearn: 0.3128317\ttotal: 849ms\tremaining: 364ms\n",
      "7:\tlearn: 0.3089128\ttotal: 981ms\tremaining: 245ms\n",
      "8:\tlearn: 0.2989294\ttotal: 1.13s\tremaining: 125ms\n",
      "9:\tlearn: 0.2910863\ttotal: 1.25s\tremaining: 0us\n",
      "Learning rate set to 0.5\n",
      "0:\tlearn: 0.5290163\ttotal: 123ms\tremaining: 1.1s\n",
      "1:\tlearn: 0.4535909\ttotal: 273ms\tremaining: 1.09s\n",
      "2:\tlearn: 0.4127024\ttotal: 423ms\tremaining: 986ms\n",
      "3:\tlearn: 0.4018797\ttotal: 563ms\tremaining: 844ms\n",
      "4:\tlearn: 0.3899444\ttotal: 704ms\tremaining: 704ms\n",
      "5:\tlearn: 0.3798668\ttotal: 841ms\tremaining: 561ms\n",
      "6:\tlearn: 0.3697274\ttotal: 981ms\tremaining: 420ms\n",
      "7:\tlearn: 0.3638336\ttotal: 1.11s\tremaining: 279ms\n",
      "8:\tlearn: 0.3595713\ttotal: 1.26s\tremaining: 140ms\n",
      "9:\tlearn: 0.3547955\ttotal: 1.39s\tremaining: 0us\n",
      "Learning rate set to 0.5\n",
      "0:\tlearn: 0.5542939\ttotal: 154ms\tremaining: 1.39s\n",
      "1:\tlearn: 0.5024036\ttotal: 292ms\tremaining: 1.17s\n",
      "2:\tlearn: 0.4793161\ttotal: 455ms\tremaining: 1.06s\n",
      "3:\tlearn: 0.4624893\ttotal: 618ms\tremaining: 927ms\n",
      "4:\tlearn: 0.4474444\ttotal: 780ms\tremaining: 780ms\n",
      "5:\tlearn: 0.4370405\ttotal: 917ms\tremaining: 611ms\n",
      "6:\tlearn: 0.4247036\ttotal: 1.07s\tremaining: 459ms\n",
      "7:\tlearn: 0.4115568\ttotal: 1.21s\tremaining: 302ms\n",
      "8:\tlearn: 0.4038492\ttotal: 1.34s\tremaining: 150ms\n",
      "9:\tlearn: 0.3951536\ttotal: 1.48s\tremaining: 0us\n",
      "Learning rate set to 0.5\n",
      "0:\tlearn: 0.0211216\ttotal: 140ms\tremaining: 1.26s\n",
      "1:\tlearn: 0.0023861\ttotal: 284ms\tremaining: 1.14s\n",
      "2:\tlearn: 0.0008355\ttotal: 439ms\tremaining: 1.02s\n",
      "3:\tlearn: 0.0004380\ttotal: 604ms\tremaining: 906ms\n",
      "4:\tlearn: 0.0002724\ttotal: 749ms\tremaining: 749ms\n",
      "5:\tlearn: 0.0001946\ttotal: 886ms\tremaining: 591ms\n",
      "6:\tlearn: 0.0001470\ttotal: 1.02s\tremaining: 438ms\n",
      "7:\tlearn: 0.0001156\ttotal: 1.15s\tremaining: 289ms\n",
      "8:\tlearn: 0.0000947\ttotal: 1.29s\tremaining: 143ms\n",
      "9:\tlearn: 0.0000804\ttotal: 1.43s\tremaining: 0us\n",
      "Learning rate set to 0.5\n",
      "0:\tlearn: 0.0869390\ttotal: 142ms\tremaining: 1.28s\n",
      "1:\tlearn: 0.0249589\ttotal: 282ms\tremaining: 1.13s\n",
      "2:\tlearn: 0.0150255\ttotal: 421ms\tremaining: 982ms\n",
      "3:\tlearn: 0.0118339\ttotal: 557ms\tremaining: 835ms\n",
      "4:\tlearn: 0.0095762\ttotal: 697ms\tremaining: 697ms\n",
      "5:\tlearn: 0.0079634\ttotal: 848ms\tremaining: 565ms\n",
      "6:\tlearn: 0.0058070\ttotal: 1.02s\tremaining: 436ms\n",
      "7:\tlearn: 0.0047019\ttotal: 1.18s\tremaining: 294ms\n",
      "8:\tlearn: 0.0038936\ttotal: 1.33s\tremaining: 148ms\n",
      "9:\tlearn: 0.0033057\ttotal: 1.47s\tremaining: 0us\n",
      "Learning rate set to 0.5\n",
      "0:\tlearn: 0.0573067\ttotal: 143ms\tremaining: 1.28s\n",
      "1:\tlearn: 0.0146624\ttotal: 305ms\tremaining: 1.22s\n",
      "2:\tlearn: 0.0079076\ttotal: 484ms\tremaining: 1.13s\n",
      "3:\tlearn: 0.0049275\ttotal: 655ms\tremaining: 983ms\n",
      "4:\tlearn: 0.0036692\ttotal: 873ms\tremaining: 873ms\n",
      "5:\tlearn: 0.0028046\ttotal: 1.06s\tremaining: 706ms\n",
      "6:\tlearn: 0.0018905\ttotal: 1.23s\tremaining: 528ms\n",
      "7:\tlearn: 0.0015180\ttotal: 1.38s\tremaining: 346ms\n",
      "8:\tlearn: 0.0011586\ttotal: 1.53s\tremaining: 170ms\n",
      "9:\tlearn: 0.0009658\ttotal: 1.7s\tremaining: 0us\n",
      "Learning rate set to 0.5\n",
      "0:\tlearn: 0.0709503\ttotal: 130ms\tremaining: 1.17s\n",
      "1:\tlearn: 0.0190474\ttotal: 264ms\tremaining: 1.06s\n",
      "2:\tlearn: 0.0088977\ttotal: 417ms\tremaining: 974ms\n",
      "3:\tlearn: 0.0072312\ttotal: 558ms\tremaining: 838ms\n",
      "4:\tlearn: 0.0061011\ttotal: 711ms\tremaining: 711ms\n",
      "5:\tlearn: 0.0053553\ttotal: 850ms\tremaining: 566ms\n",
      "6:\tlearn: 0.0036733\ttotal: 993ms\tremaining: 426ms\n",
      "7:\tlearn: 0.0029536\ttotal: 1.13s\tremaining: 282ms\n",
      "8:\tlearn: 0.0024572\ttotal: 1.27s\tremaining: 142ms\n",
      "9:\tlearn: 0.0020723\ttotal: 1.43s\tremaining: 0us\n",
      "Learning rate set to 0.5\n",
      "0:\tlearn: 0.1563310\ttotal: 144ms\tremaining: 1.29s\n",
      "1:\tlearn: 0.0778824\ttotal: 282ms\tremaining: 1.13s\n",
      "2:\tlearn: 0.0575730\ttotal: 423ms\tremaining: 987ms\n",
      "3:\tlearn: 0.0497883\ttotal: 557ms\tremaining: 836ms\n",
      "4:\tlearn: 0.0464800\ttotal: 696ms\tremaining: 696ms\n",
      "5:\tlearn: 0.0433486\ttotal: 832ms\tremaining: 555ms\n",
      "6:\tlearn: 0.0412717\ttotal: 980ms\tremaining: 420ms\n",
      "7:\tlearn: 0.0387821\ttotal: 1.11s\tremaining: 279ms\n",
      "8:\tlearn: 0.0370084\ttotal: 1.26s\tremaining: 140ms\n",
      "9:\tlearn: 0.0354857\ttotal: 1.4s\tremaining: 0us\n",
      "Learning rate set to 0.5\n",
      "0:\tlearn: 0.1390349\ttotal: 142ms\tremaining: 1.28s\n",
      "1:\tlearn: 0.0697136\ttotal: 282ms\tremaining: 1.13s\n",
      "2:\tlearn: 0.0524674\ttotal: 428ms\tremaining: 999ms\n",
      "3:\tlearn: 0.0465390\ttotal: 573ms\tremaining: 860ms\n",
      "4:\tlearn: 0.0413574\ttotal: 716ms\tremaining: 716ms\n",
      "5:\tlearn: 0.0391071\ttotal: 873ms\tremaining: 582ms\n",
      "6:\tlearn: 0.0370940\ttotal: 1.03s\tremaining: 443ms\n",
      "7:\tlearn: 0.0344041\ttotal: 1.2s\tremaining: 300ms\n",
      "8:\tlearn: 0.0326786\ttotal: 1.36s\tremaining: 151ms\n",
      "9:\tlearn: 0.0311171\ttotal: 1.52s\tremaining: 0us\n",
      "Learning rate set to 0.5\n",
      "0:\tlearn: 0.0630671\ttotal: 167ms\tremaining: 1.5s\n",
      "1:\tlearn: 0.0209362\ttotal: 322ms\tremaining: 1.29s\n",
      "2:\tlearn: 0.0127174\ttotal: 491ms\tremaining: 1.15s\n",
      "3:\tlearn: 0.0099550\ttotal: 647ms\tremaining: 971ms\n",
      "4:\tlearn: 0.0080656\ttotal: 808ms\tremaining: 808ms\n",
      "5:\tlearn: 0.0066286\ttotal: 966ms\tremaining: 644ms\n",
      "6:\tlearn: 0.0055521\ttotal: 1.13s\tremaining: 483ms\n",
      "7:\tlearn: 0.0048155\ttotal: 1.3s\tremaining: 325ms\n",
      "8:\tlearn: 0.0042687\ttotal: 1.46s\tremaining: 163ms\n",
      "9:\tlearn: 0.0039045\ttotal: 1.64s\tremaining: 0us\n",
      "Learning rate set to 0.5\n",
      "0:\tlearn: 0.1837411\ttotal: 138ms\tremaining: 1.24s\n",
      "1:\tlearn: 0.1181414\ttotal: 279ms\tremaining: 1.11s\n",
      "2:\tlearn: 0.0929710\ttotal: 432ms\tremaining: 1.01s\n",
      "3:\tlearn: 0.0859849\ttotal: 583ms\tremaining: 875ms\n",
      "4:\tlearn: 0.0806100\ttotal: 732ms\tremaining: 732ms\n",
      "5:\tlearn: 0.0776914\ttotal: 870ms\tremaining: 580ms\n",
      "6:\tlearn: 0.0733869\ttotal: 1.02s\tremaining: 436ms\n",
      "7:\tlearn: 0.0700783\ttotal: 1.15s\tremaining: 289ms\n",
      "8:\tlearn: 0.0676127\ttotal: 1.3s\tremaining: 144ms\n",
      "9:\tlearn: 0.0644489\ttotal: 1.44s\tremaining: 0us\n",
      "Learning rate set to 0.5\n",
      "0:\tlearn: 0.1942049\ttotal: 150ms\tremaining: 1.35s\n",
      "1:\tlearn: 0.0969475\ttotal: 302ms\tremaining: 1.21s\n",
      "2:\tlearn: 0.0801750\ttotal: 471ms\tremaining: 1.1s\n",
      "3:\tlearn: 0.0644767\ttotal: 622ms\tremaining: 934ms\n",
      "4:\tlearn: 0.0609369\ttotal: 771ms\tremaining: 771ms\n",
      "5:\tlearn: 0.0568192\ttotal: 909ms\tremaining: 606ms\n",
      "6:\tlearn: 0.0544835\ttotal: 1.05s\tremaining: 449ms\n",
      "7:\tlearn: 0.0517631\ttotal: 1.18s\tremaining: 296ms\n",
      "8:\tlearn: 0.0498978\ttotal: 1.32s\tremaining: 147ms\n",
      "9:\tlearn: 0.0479297\ttotal: 1.46s\tremaining: 0us\n",
      "Learning rate set to 0.5\n",
      "0:\tlearn: 0.0684091\ttotal: 137ms\tremaining: 1.23s\n",
      "1:\tlearn: 0.0204856\ttotal: 278ms\tremaining: 1.11s\n",
      "2:\tlearn: 0.0120397\ttotal: 423ms\tremaining: 988ms\n",
      "3:\tlearn: 0.0089266\ttotal: 560ms\tremaining: 840ms\n",
      "4:\tlearn: 0.0070542\ttotal: 701ms\tremaining: 701ms\n",
      "5:\tlearn: 0.0050904\ttotal: 840ms\tremaining: 560ms\n",
      "6:\tlearn: 0.0039731\ttotal: 982ms\tremaining: 421ms\n",
      "7:\tlearn: 0.0032630\ttotal: 1.13s\tremaining: 282ms\n",
      "8:\tlearn: 0.0027702\ttotal: 1.27s\tremaining: 141ms\n",
      "9:\tlearn: 0.0020487\ttotal: 1.41s\tremaining: 0us\n",
      "Learning rate set to 0.5\n",
      "0:\tlearn: 0.1376258\ttotal: 149ms\tremaining: 1.34s\n",
      "1:\tlearn: 0.0395034\ttotal: 289ms\tremaining: 1.15s\n",
      "2:\tlearn: 0.0151276\ttotal: 435ms\tremaining: 1.02s\n",
      "3:\tlearn: 0.0092567\ttotal: 574ms\tremaining: 861ms\n",
      "4:\tlearn: 0.0080155\ttotal: 716ms\tremaining: 716ms\n",
      "5:\tlearn: 0.0067868\ttotal: 852ms\tremaining: 568ms\n",
      "6:\tlearn: 0.0059131\ttotal: 989ms\tremaining: 424ms\n",
      "7:\tlearn: 0.0054358\ttotal: 1.12s\tremaining: 281ms\n"
     ]
    },
    {
     "name": "stdout",
     "output_type": "stream",
     "text": [
      "8:\tlearn: 0.0050743\ttotal: 1.26s\tremaining: 140ms\n",
      "9:\tlearn: 0.0044600\ttotal: 1.4s\tremaining: 0us\n",
      "Learning rate set to 0.5\n",
      "0:\tlearn: 0.0313889\ttotal: 151ms\tremaining: 1.36s\n",
      "1:\tlearn: 0.0031015\ttotal: 315ms\tremaining: 1.26s\n",
      "2:\tlearn: 0.0008329\ttotal: 482ms\tremaining: 1.13s\n",
      "3:\tlearn: 0.0003645\ttotal: 647ms\tremaining: 971ms\n",
      "4:\tlearn: 0.0002070\ttotal: 809ms\tremaining: 809ms\n",
      "5:\tlearn: 0.0001381\ttotal: 963ms\tremaining: 642ms\n",
      "6:\tlearn: 0.0001034\ttotal: 1.12s\tremaining: 480ms\n",
      "7:\tlearn: 0.0000805\ttotal: 1.28s\tremaining: 320ms\n",
      "8:\tlearn: 0.0000654\ttotal: 1.44s\tremaining: 160ms\n",
      "9:\tlearn: 0.0000553\ttotal: 1.6s\tremaining: 0us\n",
      "Learning rate set to 0.5\n",
      "0:\tlearn: 0.0211216\ttotal: 135ms\tremaining: 1.21s\n",
      "1:\tlearn: 0.0023861\ttotal: 272ms\tremaining: 1.09s\n",
      "2:\tlearn: 0.0008355\ttotal: 412ms\tremaining: 961ms\n",
      "3:\tlearn: 0.0004376\ttotal: 545ms\tremaining: 818ms\n",
      "4:\tlearn: 0.0002723\ttotal: 686ms\tremaining: 686ms\n",
      "5:\tlearn: 0.0001945\ttotal: 819ms\tremaining: 546ms\n",
      "6:\tlearn: 0.0001469\ttotal: 956ms\tremaining: 410ms\n",
      "7:\tlearn: 0.0001156\ttotal: 1.12s\tremaining: 279ms\n",
      "8:\tlearn: 0.0000946\ttotal: 1.26s\tremaining: 140ms\n",
      "9:\tlearn: 0.0000803\ttotal: 1.39s\tremaining: 0us\n",
      "Learning rate set to 0.5\n",
      "0:\tlearn: 0.1180009\ttotal: 137ms\tremaining: 1.23s\n",
      "1:\tlearn: 0.0576726\ttotal: 278ms\tremaining: 1.11s\n",
      "2:\tlearn: 0.0431321\ttotal: 424ms\tremaining: 988ms\n",
      "3:\tlearn: 0.0370352\ttotal: 560ms\tremaining: 840ms\n",
      "4:\tlearn: 0.0320301\ttotal: 699ms\tremaining: 699ms\n",
      "5:\tlearn: 0.0294013\ttotal: 833ms\tremaining: 555ms\n",
      "6:\tlearn: 0.0268752\ttotal: 988ms\tremaining: 423ms\n",
      "7:\tlearn: 0.0247300\ttotal: 1.12s\tremaining: 281ms\n",
      "8:\tlearn: 0.0228501\ttotal: 1.28s\tremaining: 142ms\n",
      "9:\tlearn: 0.0210468\ttotal: 1.42s\tremaining: 0us\n",
      "Learning rate set to 0.5\n",
      "0:\tlearn: 0.0211216\ttotal: 138ms\tremaining: 1.24s\n",
      "1:\tlearn: 0.0023861\ttotal: 282ms\tremaining: 1.13s\n",
      "2:\tlearn: 0.0008355\ttotal: 458ms\tremaining: 1.07s\n",
      "3:\tlearn: 0.0004376\ttotal: 607ms\tremaining: 910ms\n",
      "4:\tlearn: 0.0002723\ttotal: 750ms\tremaining: 750ms\n",
      "5:\tlearn: 0.0001945\ttotal: 889ms\tremaining: 593ms\n",
      "6:\tlearn: 0.0001469\ttotal: 1.03s\tremaining: 441ms\n",
      "7:\tlearn: 0.0001155\ttotal: 1.17s\tremaining: 291ms\n",
      "8:\tlearn: 0.0000947\ttotal: 1.31s\tremaining: 145ms\n",
      "9:\tlearn: 0.0000804\ttotal: 1.44s\tremaining: 0us\n",
      "Learning rate set to 0.5\n",
      "0:\tlearn: 0.0869390\ttotal: 136ms\tremaining: 1.23s\n",
      "1:\tlearn: 0.0360612\ttotal: 277ms\tremaining: 1.11s\n",
      "2:\tlearn: 0.0224539\ttotal: 433ms\tremaining: 1.01s\n",
      "3:\tlearn: 0.0185686\ttotal: 573ms\tremaining: 859ms\n",
      "4:\tlearn: 0.0161889\ttotal: 743ms\tremaining: 743ms\n",
      "5:\tlearn: 0.0140060\ttotal: 883ms\tremaining: 589ms\n",
      "6:\tlearn: 0.0124019\ttotal: 1.02s\tremaining: 439ms\n",
      "7:\tlearn: 0.0101928\ttotal: 1.16s\tremaining: 291ms\n",
      "8:\tlearn: 0.0085617\ttotal: 1.31s\tremaining: 146ms\n",
      "9:\tlearn: 0.0074602\ttotal: 1.45s\tremaining: 0us\n",
      "Learning rate set to 0.5\n",
      "0:\tlearn: 0.1498871\ttotal: 128ms\tremaining: 1.15s\n",
      "1:\tlearn: 0.0650585\ttotal: 263ms\tremaining: 1.05s\n",
      "2:\tlearn: 0.0392524\ttotal: 416ms\tremaining: 970ms\n",
      "3:\tlearn: 0.0282015\ttotal: 553ms\tremaining: 830ms\n",
      "4:\tlearn: 0.0256324\ttotal: 692ms\tremaining: 692ms\n",
      "5:\tlearn: 0.0233327\ttotal: 825ms\tremaining: 550ms\n",
      "6:\tlearn: 0.0191835\ttotal: 976ms\tremaining: 418ms\n",
      "7:\tlearn: 0.0175201\ttotal: 1.12s\tremaining: 279ms\n",
      "8:\tlearn: 0.0157844\ttotal: 1.25s\tremaining: 139ms\n",
      "9:\tlearn: 0.0142320\ttotal: 1.39s\tremaining: 0us\n",
      "Learning rate set to 0.5\n",
      "0:\tlearn: 0.4174916\ttotal: 142ms\tremaining: 1.27s\n",
      "1:\tlearn: 0.3314394\ttotal: 283ms\tremaining: 1.13s\n",
      "2:\tlearn: 0.3025532\ttotal: 428ms\tremaining: 999ms\n",
      "3:\tlearn: 0.2794354\ttotal: 565ms\tremaining: 847ms\n",
      "4:\tlearn: 0.2697087\ttotal: 707ms\tremaining: 707ms\n",
      "5:\tlearn: 0.2644185\ttotal: 846ms\tremaining: 564ms\n",
      "6:\tlearn: 0.2516394\ttotal: 982ms\tremaining: 421ms\n",
      "7:\tlearn: 0.2482272\ttotal: 1.11s\tremaining: 279ms\n",
      "8:\tlearn: 0.2425396\ttotal: 1.25s\tremaining: 139ms\n",
      "9:\tlearn: 0.2367510\ttotal: 1.39s\tremaining: 0us\n",
      "Learning rate set to 0.5\n",
      "0:\tlearn: 0.5637417\ttotal: 142ms\tremaining: 1.27s\n",
      "1:\tlearn: 0.4927960\ttotal: 285ms\tremaining: 1.14s\n",
      "2:\tlearn: 0.4604847\ttotal: 451ms\tremaining: 1.05s\n",
      "3:\tlearn: 0.4353742\ttotal: 593ms\tremaining: 889ms\n",
      "4:\tlearn: 0.4155797\ttotal: 735ms\tremaining: 735ms\n",
      "5:\tlearn: 0.3998055\ttotal: 876ms\tremaining: 584ms\n",
      "6:\tlearn: 0.3833210\ttotal: 1.02s\tremaining: 437ms\n",
      "7:\tlearn: 0.3792345\ttotal: 1.16s\tremaining: 290ms\n",
      "8:\tlearn: 0.3736817\ttotal: 1.32s\tremaining: 146ms\n",
      "9:\tlearn: 0.3644965\ttotal: 1.47s\tremaining: 0us\n",
      "Learning rate set to 0.5\n",
      "0:\tlearn: 0.5196433\ttotal: 137ms\tremaining: 1.23s\n",
      "1:\tlearn: 0.4639918\ttotal: 279ms\tremaining: 1.11s\n",
      "2:\tlearn: 0.4553970\ttotal: 419ms\tremaining: 977ms\n",
      "3:\tlearn: 0.4454315\ttotal: 557ms\tremaining: 836ms\n",
      "4:\tlearn: 0.4255557\ttotal: 697ms\tremaining: 697ms\n",
      "5:\tlearn: 0.4201589\ttotal: 840ms\tremaining: 560ms\n",
      "6:\tlearn: 0.4142591\ttotal: 978ms\tremaining: 419ms\n",
      "7:\tlearn: 0.4115053\ttotal: 1.13s\tremaining: 283ms\n",
      "8:\tlearn: 0.4056241\ttotal: 1.28s\tremaining: 142ms\n",
      "9:\tlearn: 0.3987342\ttotal: 1.42s\tremaining: 0us\n"
     ]
    },
    {
     "data": {
      "text/plain": [
       "OneVsRestClassifier(estimator=<catboost.core.CatBoostClassifier object at 0x00000194091C6CF8>)"
      ]
     },
     "execution_count": 39,
     "metadata": {},
     "output_type": "execute_result"
    }
   ],
   "source": [
    "ovr.fit(x_train, y_train)"
   ]
  },
  {
   "cell_type": "code",
   "execution_count": 40,
   "metadata": {},
   "outputs": [
    {
     "name": "stdout",
     "output_type": "stream",
     "text": [
      "Train Accuracy  : 0.57\n",
      "\n",
      "Test Accuracy   : 0.523\n",
      "\n",
      "Precision Score : [0.87323944 0.79288437 0.69135802 0.8        0.80590717 0.\n",
      " 1.         0.         0.         0.8        1.         0.\n",
      " 1.         0.875      1.         0.93333333 0.         0.\n",
      " 0.         0.         1.         1.         0.94117647 0.79060665\n",
      " 0.96969697]\n",
      "\n",
      "Recall Score    : [0.53295129 0.95852535 0.29166667 0.20833333 0.93019481 0.\n",
      " 0.44444444 0.         0.         0.19047619 0.25       0.\n",
      " 0.03571429 0.36842105 0.16666667 0.77777778 0.         0.\n",
      " 0.         0.         0.18181818 0.28571429 0.128      0.89777778\n",
      " 0.47583643]\n",
      "\n",
      "F1 Score        : [0.66192171 0.86787204 0.41025641 0.33057851 0.86360211 0.\n",
      " 0.61538462 0.         0.         0.30769231 0.4        0.\n",
      " 0.06896552 0.51851852 0.28571429 0.84848485 0.         0.\n",
      " 0.         0.         0.30769231 0.44444444 0.22535211 0.84079084\n",
      " 0.63840399]\n",
      "\n"
     ]
    }
   ],
   "source": [
    "y_pred = ovr.predict(x_test)\n",
    "print(\"Train Accuracy  : {0}\\n\".format(accuracy_score(y_train, ovr.predict(x_train))))\n",
    "print(\"Test Accuracy   : {0}\\n\".format(accuracy_score(y_test, y_pred)))\n",
    "print(\"Precision Score : {0}\\n\".format(precision_score(y_test,y_pred, average=None)))\n",
    "print(\"Recall Score    : {0}\\n\".format(recall_score(y_test,y_pred, average=None)))\n",
    "print(\"F1 Score        : {0}\\n\".format(f1_score(y_test,y_pred, average=None)))"
   ]
  },
  {
   "cell_type": "code",
   "execution_count": null,
   "metadata": {},
   "outputs": [],
   "source": [
    "#CATBOOST GIVING AN ACCURACY OF : 52%"
   ]
  },
  {
   "cell_type": "code",
   "execution_count": null,
   "metadata": {},
   "outputs": [],
   "source": []
  },
  {
   "cell_type": "code",
   "execution_count": null,
   "metadata": {},
   "outputs": [],
   "source": []
  },
  {
   "cell_type": "code",
   "execution_count": null,
   "metadata": {},
   "outputs": [],
   "source": [
    "############################################CountVectorizer With NeuralNet##################################################"
   ]
  },
  {
   "cell_type": "code",
   "execution_count": 41,
   "metadata": {},
   "outputs": [],
   "source": [
    "############################################### NEURAL NET #################################################################"
   ]
  },
  {
   "cell_type": "code",
   "execution_count": 417,
   "metadata": {},
   "outputs": [],
   "source": [
    "model = tf.keras.Sequential()\n",
    "model.add(layers.Flatten())\n",
    "model.add(layers.Dense(1024, input_shape=(x_train.toarray().shape[1],)))\n",
    "model.add(layers.Dense(512, activation='relu'))\n",
    "model.add(layers.Dense(256, activation='relu'))\n",
    "model.add(layers.Dense(128, activation='relu'))\n",
    "model.add(layers.Dense(64, activation='relu'))\n",
    "model.add(layers.Dense(32, activation='relu'))\n",
    "model.add(layers.Dense(y_train.toarray().shape[1], activation='softmax'))\n",
    "model.compile(loss='categorical_crossentropy', optimizer='adam', metrics=['accuracy'])          "
   ]
  },
  {
   "cell_type": "code",
   "execution_count": 30,
   "metadata": {},
   "outputs": [
    {
     "name": "stdout",
     "output_type": "stream",
     "text": [
      "Train on 4000 samples, validate on 1000 samples\n",
      "Epoch 1/5\n",
      "4000/4000 [==============================] - 194s 49ms/sample - loss: 6.1112 - acc: 0.4245 - val_loss: 5.7556 - val_acc: 0.6870\n",
      "Epoch 2/5\n",
      "4000/4000 [==============================] - 195s 49ms/sample - loss: 4.9237 - acc: 0.4283 - val_loss: 5.6401 - val_acc: 0.5450\n",
      "Epoch 3/5\n",
      "4000/4000 [==============================] - 190s 48ms/sample - loss: 4.3557 - acc: 0.4433 - val_loss: 5.4817 - val_acc: 0.5500\n",
      "Epoch 4/5\n",
      "4000/4000 [==============================] - 189s 47ms/sample - loss: 4.0866 - acc: 0.4150 - val_loss: 5.4062 - val_acc: 0.5660\n",
      "Epoch 5/5\n",
      "4000/4000 [==============================] - 188s 47ms/sample - loss: 3.9062 - acc: 0.3990 - val_loss: 5.6214 - val_acc: 0.4810\n"
     ]
    }
   ],
   "source": [
    "ckpt_callback = tf.keras.callbacks.ModelCheckpoint(filepath='nn_nlp1', save_best_only=True, verbose=False)\n",
    "training = model.fit(x_train.toarray(), y_train.toarray(), batch_size=10, epochs=5, validation_data=(x_test.toarray(), y_test.toarray()),verbose=True, callbacks=[ckpt_callback])"
   ]
  },
  {
   "cell_type": "code",
   "execution_count": 31,
   "metadata": {},
   "outputs": [],
   "source": [
    "model.load_weights('nn_nlp')"
   ]
  },
  {
   "cell_type": "code",
   "execution_count": 32,
   "metadata": {},
   "outputs": [
    {
     "name": "stdout",
     "output_type": "stream",
     "text": [
      "1000/1000 [==============================] - 2s 2ms/sample - loss: 5.4062 - acc: 0.5660 0s - loss: 5.4032 - acc: 0.565\n"
     ]
    },
    {
     "data": {
      "text/plain": [
       "[5.406211479187012, 0.566]"
      ]
     },
     "execution_count": 32,
     "metadata": {},
     "output_type": "execute_result"
    }
   ],
   "source": [
    "model.evaluate(x_test, y_test)"
   ]
  },
  {
   "cell_type": "code",
   "execution_count": 35,
   "metadata": {},
   "outputs": [],
   "source": [
    "y_pred = model.predict(x_test)"
   ]
  },
  {
   "cell_type": "code",
   "execution_count": 37,
   "metadata": {},
   "outputs": [
    {
     "name": "stdout",
     "output_type": "stream",
     "text": [
      "              precision    recall  f1-score   support\n",
      "\n",
      "           0       0.93      0.15      0.26       349\n",
      "           1       0.87      0.79      0.83       651\n",
      "           2       0.00      0.00      0.00         0\n",
      "           3       0.00      0.00      0.00         0\n",
      "           4       0.00      0.00      0.00         0\n",
      "          10       0.00      0.00      0.00         0\n",
      "          13       0.00      0.00      0.00         0\n",
      "          15       0.00      0.00      0.00         0\n",
      "          22       0.00      0.00      0.00         0\n",
      "          23       0.00      0.00      0.00         0\n",
      "          24       0.00      0.00      0.00         0\n",
      "\n",
      "    accuracy                           0.57      1000\n",
      "   macro avg       0.16      0.09      0.10      1000\n",
      "weighted avg       0.89      0.57      0.63      1000\n",
      "\n"
     ]
    }
   ],
   "source": [
    "#Printing Classification Matrix\n",
    "print(classification_report(np.argmax(y_test, axis=1), np.argmax(y_pred, axis=1)))"
   ]
  },
  {
   "cell_type": "code",
   "execution_count": null,
   "metadata": {},
   "outputs": [],
   "source": [
    "######################################NEURALNET GIVING AN ACCURACY OF : 56.6%"
   ]
  },
  {
   "cell_type": "code",
   "execution_count": 420,
   "metadata": {},
   "outputs": [],
   "source": [
    "#model.save('stat_nlp')\n",
    "#model.load_weights('nn_nlp1')"
   ]
  },
  {
   "cell_type": "code",
   "execution_count": 424,
   "metadata": {},
   "outputs": [
    {
     "data": {
      "image/png": "[encoded data removed]",
      "text/plain": [
       "<Figure size 432x288 with 1 Axes>"
      ]
     },
     "metadata": {
      "needs_background": "light"
     },
     "output_type": "display_data"
    },
    {
     "data": {
      "image/png": "[encoded data removed]",
      "text/plain": [
       "<Figure size 432x288 with 1 Axes>"
      ]
     },
     "metadata": {
      "needs_background": "light"
     },
     "output_type": "display_data"
    }
   ],
   "source": [
    "history=training\n",
    "plt.plot(history.history['acc'])\n",
    "plt.plot(history.history['val_acc'])\n",
    "plt.title('model accuracy')\n",
    "plt.ylabel('accuracy')\n",
    "plt.xlabel('epoch')\n",
    "plt.legend(['train', 'test'], loc='upper left')\n",
    "plt.show()\n",
    "# summarize history for loss\n",
    "plt.plot(history.history['loss'])\n",
    "plt.plot(history.history['val_loss'])\n",
    "plt.title('model loss')\n",
    "plt.ylabel('loss')\n",
    "plt.xlabel('epoch')\n",
    "plt.legend(['train', 'test'], loc='upper left')\n",
    "plt.show()"
   ]
  },
  {
   "cell_type": "code",
   "execution_count": 432,
   "metadata": {},
   "outputs": [],
   "source": [
    "#Function to Predicting Few Random String ---- \n",
    "def MyPredict(string):\n",
    "    print(np.argmax(model.predict(vec.transform([string])), axis=1))"
   ]
  },
  {
   "cell_type": "code",
   "execution_count": 433,
   "metadata": {},
   "outputs": [
    {
     "name": "stdout",
     "output_type": "stream",
     "text": [
      "[1]\n"
     ]
    }
   ],
   "source": [
    "MyPredict(\"Hi How are you I am doing good and expect that you are fine too\")"
   ]
  },
  {
   "cell_type": "code",
   "execution_count": null,
   "metadata": {},
   "outputs": [],
   "source": []
  },
  {
   "cell_type": "code",
   "execution_count": null,
   "metadata": {},
   "outputs": [],
   "source": [
    "#########################Predicting Values and see if they are equal to Original ..........."
   ]
  },
  {
   "cell_type": "code",
   "execution_count": 437,
   "metadata": {},
   "outputs": [
    {
     "data": {
      "text/plain": [
       "array([0], dtype=int64)"
      ]
     },
     "execution_count": 437,
     "metadata": {},
     "output_type": "execute_result"
    }
   ],
   "source": [
    "np.argmax(model.predict(x_test[0]), axis=1)"
   ]
  },
  {
   "cell_type": "code",
   "execution_count": 441,
   "metadata": {},
   "outputs": [
    {
     "data": {
      "text/plain": [
       "matrix([[0]])"
      ]
     },
     "execution_count": 441,
     "metadata": {},
     "output_type": "execute_result"
    }
   ],
   "source": [
    "np.argmax(y_test[0], axis=1)"
   ]
  },
  {
   "cell_type": "code",
   "execution_count": null,
   "metadata": {},
   "outputs": [],
   "source": []
  },
  {
   "cell_type": "code",
   "execution_count": 446,
   "metadata": {},
   "outputs": [
    {
     "data": {
      "text/plain": [
       "array([1], dtype=int64)"
      ]
     },
     "execution_count": 446,
     "metadata": {},
     "output_type": "execute_result"
    }
   ],
   "source": [
    "np.argmax(model.predict(x_test[5]), axis=1)"
   ]
  },
  {
   "cell_type": "code",
   "execution_count": 444,
   "metadata": {},
   "outputs": [
    {
     "data": {
      "text/plain": [
       "matrix([[1]])"
      ]
     },
     "execution_count": 444,
     "metadata": {},
     "output_type": "execute_result"
    }
   ],
   "source": [
    "np.argmax(y_test[5], axis=1)"
   ]
  },
  {
   "cell_type": "code",
   "execution_count": null,
   "metadata": {},
   "outputs": [],
   "source": []
  },
  {
   "cell_type": "code",
   "execution_count": 447,
   "metadata": {},
   "outputs": [
    {
     "data": {
      "text/plain": [
       "array([1], dtype=int64)"
      ]
     },
     "execution_count": 447,
     "metadata": {},
     "output_type": "execute_result"
    }
   ],
   "source": [
    "np.argmax(model.predict(x_test[50]), axis=1)"
   ]
  },
  {
   "cell_type": "code",
   "execution_count": 448,
   "metadata": {},
   "outputs": [
    {
     "data": {
      "text/plain": [
       "matrix([[1]])"
      ]
     },
     "execution_count": 448,
     "metadata": {},
     "output_type": "execute_result"
    }
   ],
   "source": [
    "np.argmax(y_test[50], axis=1)"
   ]
  },
  {
   "cell_type": "code",
   "execution_count": null,
   "metadata": {},
   "outputs": [],
   "source": []
  },
  {
   "cell_type": "code",
   "execution_count": 449,
   "metadata": {},
   "outputs": [
    {
     "data": {
      "text/plain": [
       "array([1], dtype=int64)"
      ]
     },
     "execution_count": 449,
     "metadata": {},
     "output_type": "execute_result"
    }
   ],
   "source": [
    "np.argmax(model.predict(x_test[100]), axis=1)"
   ]
  },
  {
   "cell_type": "code",
   "execution_count": 454,
   "metadata": {},
   "outputs": [
    {
     "data": {
      "text/plain": [
       "matrix([[1]])"
      ]
     },
     "execution_count": 454,
     "metadata": {},
     "output_type": "execute_result"
    }
   ],
   "source": [
    "np.argmax(y_test[100], axis=1)"
   ]
  },
  {
   "cell_type": "code",
   "execution_count": null,
   "metadata": {},
   "outputs": [],
   "source": []
  },
  {
   "cell_type": "code",
   "execution_count": 452,
   "metadata": {},
   "outputs": [
    {
     "data": {
      "text/plain": [
       "array([4], dtype=int64)"
      ]
     },
     "execution_count": 452,
     "metadata": {},
     "output_type": "execute_result"
    }
   ],
   "source": [
    "np.argmax(model.predict(x_test[120]), axis=1)"
   ]
  },
  {
   "cell_type": "code",
   "execution_count": 453,
   "metadata": {},
   "outputs": [
    {
     "data": {
      "text/plain": [
       "matrix([[1]])"
      ]
     },
     "execution_count": 453,
     "metadata": {},
     "output_type": "execute_result"
    }
   ],
   "source": [
    "np.argmax(y_test[120], axis=1)"
   ]
  },
  {
   "cell_type": "code",
   "execution_count": null,
   "metadata": {},
   "outputs": [],
   "source": []
  },
  {
   "cell_type": "code",
   "execution_count": null,
   "metadata": {},
   "outputs": [],
   "source": [
    "############THI IS PURELY EXPERIMENTAL TO SHOW CNN CAN ALSO BE USED"
   ]
  },
  {
   "cell_type": "code",
   "execution_count": null,
   "metadata": {},
   "outputs": [],
   "source": [
    "###########################################################################################"
   ]
  },
  {
   "cell_type": "code",
   "execution_count": null,
   "metadata": {},
   "outputs": [],
   "source": [
    "#########################################################################################################################"
   ]
  },
  {
   "cell_type": "code",
   "execution_count": null,
   "metadata": {},
   "outputs": [],
   "source": [
    "#                    DATA PROCESSING WITH WORD2VEC AND APPLYING CNNN                                                     #"
   ]
  },
  {
   "cell_type": "code",
   "execution_count": 61,
   "metadata": {},
   "outputs": [],
   "source": [
    "##########################################################################################################################"
   ]
  },
  {
   "cell_type": "code",
   "execution_count": 316,
   "metadata": {},
   "outputs": [
    {
     "name": "stdout",
     "output_type": "stream",
     "text": [
      "{'Accounting': 0, 'Arts': 1, 'Automotive': 2, 'Banking': 3, 'BusinessServices': 4, 'Communications-Media': 5, 'Consulting': 6, 'Education': 7, 'Engineering': 8, 'Internet': 9, 'InvestmentBanking': 10, 'Law': 11, 'Museums-Libraries': 12, 'Non-Profit': 13, 'Religion': 14, 'Science': 15, 'Sports-Recreation': 16, 'Student': 17, 'Technology': 18, 'indUnk': 19}\n"
     ]
    }
   ],
   "source": [
    "#Reading Data\n",
    "df = pd.read_csv('blogtext.csv')\n",
    "df = df[0:5000]\n",
    "\n",
    "#Preprocess data\n",
    "#convert all text to lowercase - use .lower()\n",
    "#select only numbers, alphabets, and #+_ from text - use re.sub()\n",
    "#strip all the text - use .strip() (this is for removing extra spaces)\n",
    "df['text'] = df['text'].apply(lambda s: s.lower())\n",
    "#df['text'] = df['text'].apply(lambda s: re.sub('[^0-9a-z #+_]','',s))\n",
    "df['text'] = df['text'].apply(lambda s: re.sub('[^A-Za-z0-9]+','',s))\n",
    "df['text'] = df['text'].apply(lambda s: s.strip())\n",
    "\n",
    "\n",
    "#Using Word2vec and Converting the df['text'] to their corresponding vectors ...here for simplicity\n",
    "#the vecotr size is 10 :) ...The Original df is saved to df_original and deleted df['text']\n",
    "#I dint find a direct fit_transform function for word2vec as in case of Countvectorizer and TfIdf ...so \n",
    "#Tried This way\n",
    "sentences = [row.split() for row in df['text']]   \n",
    "words = [item for words in sentences for item in words]\n",
    "vec_model = Word2Vec(sentences=sentences,vector_size=100, window=5, min_count=1, workers=4)\n",
    "vec_model.build_vocab(sentences)\n",
    "vec_model.train(sentences, total_examples=vec_model.corpus_count, epochs=30)\n",
    "df['text_vec'] = df['text'].apply(lambda x : vec_model.wv[x.split()].ravel() if(x) else np.zeros(100))\n",
    "df_original = df.copy()\n",
    "del(df['text'])\n",
    "\n",
    "\n",
    "###############################################Generic Functions########################\n",
    "def age(x):\n",
    "     if((x >= 13) and (x <= 17)):\n",
    "        return 1\n",
    "     if((x >= 23) and (x <= 27)):\n",
    "        return 2\n",
    "     if((x >= 33) and (x <= 48)):\n",
    "        return 3\n",
    "    \n",
    "################################################Dropping Unnecessary coluns##############\n",
    "df = df.drop('date', axis=1)\n",
    "df = df.drop('id', axis=1)\n",
    "df = df.drop('sign', axis=1)\n",
    "##################################################Labelling Columns######################\n",
    "df['gender'] = df['gender'].apply(lambda x : 1 if(x=='male') else 0)\n",
    "df['gender'] = df['gender'].astype('int32')\n",
    "df['age'] = df['age'].apply(age).astype(int)\n",
    "le = LabelEncoder()\n",
    "df['topic'] = le.fit_transform(df['topic'])\n",
    "le_name_mapping = dict(zip(le.classes_, le.transform(le.classes_)))\n",
    "#print(le_name_mapping)\n",
    "\n",
    "\n",
    "##################################################Splitting Data#########################\n",
    "\n",
    "x_train, x_test, y_train, y_test = train_test_split(df['text_vec'],df.drop('text_vec', axis=1),test_size=0.2, random_state=10)\n",
    "\n",
    "###################################################One Hot Encoding y_train ######################\n",
    "enc = OneHotEncoder()\n",
    "#enc = MultiLabelBinarizer()\n",
    "y_train = enc.fit_transform(y_train)\n",
    "y_test = enc.transform(y_test)\n",
    "\n",
    "#####################################Finally Padding as Model expects Equal Size Messages#################################\n",
    "########## Using pad_sequences from Tensorflow for this  #################################################################\n",
    "x_train = pad_sequences(x_train, maxlen=300, padding='pre', truncating='post')\n",
    "x_test = pad_sequences(x_test, maxlen=300, padding='pre', truncating='post')\n",
    "\n",
    "################################################### Printing #####################################\n",
    "print(le_name_mapping)"
   ]
  },
  {
   "cell_type": "code",
   "execution_count": 318,
   "metadata": {},
   "outputs": [
    {
     "name": "stdout",
     "output_type": "stream",
     "text": [
      "WARNING:tensorflow:The `nb_epoch` argument in `fit` has been renamed `epochs`.\n",
      "Train on 4000 samples, validate on 1000 samples\n",
      "Epoch 1/5\n",
      "4000/4000 [==============================] - 21s 5ms/sample - loss: 9.0259 - acc: 0.4925 - val_loss: 8.4848 - val_acc: 0.6510\n",
      "Epoch 2/5\n",
      "4000/4000 [==============================] - 16s 4ms/sample - loss: 8.0407 - acc: 0.6607 - val_loss: 7.7146 - val_acc: 0.6510\n",
      "Epoch 3/5\n",
      "4000/4000 [==============================] - 16s 4ms/sample - loss: 7.4106 - acc: 0.6607 - val_loss: 7.2434 - val_acc: 0.6510\n",
      "Epoch 4/5\n",
      "4000/4000 [==============================] - 17s 4ms/sample - loss: 7.0287 - acc: 0.6607 - val_loss: 6.9658 - val_acc: 0.6510\n",
      "Epoch 5/5\n",
      "4000/4000 [==============================] - 17s 4ms/sample - loss: 6.8032 - acc: 0.6607 - val_loss: 6.8049 - val_acc: 0.6510\n"
     ]
    }
   ],
   "source": [
    "model = tf.keras.Sequential()\n",
    "model.add(layers.Conv1D(10, kernel_size=(5), activation='relu', input_shape=(x_train.shape[1],1)))\n",
    "model.add(layers.Conv1D(10, kernel_size=(5), activation='relu'))\n",
    "model.add(layers.MaxPool1D(3))\n",
    "model.add(layers.Conv1D(16, kernel_size=(5), activation='relu'))\n",
    "model.add(layers.Conv1D(16, kernel_size=(5), activation='relu'))\n",
    "model.add(layers.MaxPool1D(3))\n",
    "model.add(layers.Conv1D(128, kernel_size=(5), activation='relu'))\n",
    "model.add(layers.Conv1D(128, kernel_size=(5), activation='relu'))\n",
    "model.add(layers.MaxPool1D(3))\n",
    "model.add(layers.Flatten())\n",
    "model.add(layers.Dense(512, activation='relu'))\n",
    "model.add(layers.Dense(256, activation='relu'))\n",
    "model.add(layers.Dense(128, activation='relu'))\n",
    "model.add(layers.Dense(64, activation='relu'))\n",
    "model.add(layers.Dense(y_train.shape[1], activation='softmax'))\n",
    "model.compile(loss='categorical_crossentropy', optimizer='adam', metrics=['accuracy'])  \n",
    "ckpt_callback = tf.keras.callbacks.ModelCheckpoint(filepath='cnn_w2vec_nlp', save_best_only=True, verbose=False)\n",
    "training = model.fit(x_train.reshape(x_train.shape[0],x_train.shape[1] ,1), y_train, batch_size=10, nb_epoch=5, validation_data=(x_test.reshape(x_test.shape[0],x_test.shape[1],1), y_test),verbose=True, callbacks=[ckpt_callback])"
   ]
  },
  {
   "cell_type": "code",
   "execution_count": 319,
   "metadata": {},
   "outputs": [
    {
     "name": "stdout",
     "output_type": "stream",
     "text": [
      "1000/1000 [==============================] - 1s 678us/sample - loss: 6.8049 - acc: 0.6510\n"
     ]
    },
    {
     "data": {
      "text/plain": [
       "[6.804876007080078, 0.651]"
      ]
     },
     "execution_count": 319,
     "metadata": {},
     "output_type": "execute_result"
    }
   ],
   "source": [
    "model.evaluate(x_test.reshape(x_test.shape[0], x_test.shape[1],1), y_test)"
   ]
  },
  {
   "cell_type": "code",
   "execution_count": null,
   "metadata": {},
   "outputs": [],
   "source": []
  },
  {
   "cell_type": "code",
   "execution_count": null,
   "metadata": {},
   "outputs": [],
   "source": []
  },
  {
   "cell_type": "code",
   "execution_count": null,
   "metadata": {},
   "outputs": [],
   "source": []
  },
  {
   "cell_type": "code",
   "execution_count": null,
   "metadata": {},
   "outputs": [],
   "source": [
    "################## PART2"
   ]
  },
  {
   "cell_type": "code",
   "execution_count": null,
   "metadata": {},
   "outputs": [],
   "source": [
    "###########################################################################################################################"
   ]
  },
  {
   "cell_type": "code",
   "execution_count": null,
   "metadata": {},
   "outputs": [],
   "source": [
    "########################################### CHATBOT ########################################################################"
   ]
  },
  {
   "cell_type": "code",
   "execution_count": null,
   "metadata": {},
   "outputs": [],
   "source": [
    "###########################################################################################################################"
   ]
  },
  {
   "cell_type": "code",
   "execution_count": null,
   "metadata": {},
   "outputs": [],
   "source": []
  },
  {
   "cell_type": "code",
   "execution_count": 143,
   "metadata": {},
   "outputs": [],
   "source": [
    "#Reading the Data from Json file.\n",
    "data = json.load(open('GL Bot.json'))"
   ]
  },
  {
   "cell_type": "code",
   "execution_count": 144,
   "metadata": {},
   "outputs": [],
   "source": [
    "#Building a DataFrame out of 'data'\n",
    "#Pattern and Response are the only Two Things We Need to Build the Model....\n",
    "#The Ouput of the model is fed to \"data\" and we will print the Response (So No need for the 'Response' to be part of df)\n",
    "df = pd.DataFrame(columns=['Patterns','Tag'])\n",
    "df['Patterns'] = pd.Series([patterns for element in data['intents'] for patterns in element['patterns']])\n",
    "df['Tag'] = pd.Series([element['tag'] for element in data['intents'] for patterns in element['patterns']])"
   ]
  },
  {
   "cell_type": "code",
   "execution_count": 145,
   "metadata": {},
   "outputs": [
    {
     "data": {
      "text/html": [
       "<div>\n",
       "<style scoped>\n",
       "    .dataframe tbody tr th:only-of-type {\n",
       "        vertical-align: middle;\n",
       "    }\n",
       "\n",
       "    .dataframe tbody tr th {\n",
       "        vertical-align: top;\n",
       "    }\n",
       "\n",
       "    .dataframe thead th {\n",
       "        text-align: right;\n",
       "    }\n",
       "</style>\n",
       "<table border=\"1\" class=\"dataframe\">\n",
       "  <thead>\n",
       "    <tr style=\"text-align: right;\">\n",
       "      <th></th>\n",
       "      <th>count</th>\n",
       "      <th>unique</th>\n",
       "      <th>top</th>\n",
       "      <th>freq</th>\n",
       "    </tr>\n",
       "    <tr>\n",
       "      <th>Tag</th>\n",
       "      <th></th>\n",
       "      <th></th>\n",
       "      <th></th>\n",
       "      <th></th>\n",
       "    </tr>\n",
       "  </thead>\n",
       "  <tbody>\n",
       "    <tr>\n",
       "      <th>Bot</th>\n",
       "      <td>8</td>\n",
       "      <td>8</td>\n",
       "      <td>what are your working hours</td>\n",
       "      <td>1</td>\n",
       "    </tr>\n",
       "    <tr>\n",
       "      <th>Exit</th>\n",
       "      <td>16</td>\n",
       "      <td>16</td>\n",
       "      <td>see you later</td>\n",
       "      <td>1</td>\n",
       "    </tr>\n",
       "    <tr>\n",
       "      <th>Intro</th>\n",
       "      <td>20</td>\n",
       "      <td>19</td>\n",
       "      <td>i am from</td>\n",
       "      <td>2</td>\n",
       "    </tr>\n",
       "    <tr>\n",
       "      <th>NN</th>\n",
       "      <td>24</td>\n",
       "      <td>24</td>\n",
       "      <td>weights</td>\n",
       "      <td>1</td>\n",
       "    </tr>\n",
       "    <tr>\n",
       "      <th>Olympus</th>\n",
       "      <td>13</td>\n",
       "      <td>13</td>\n",
       "      <td>no access to olympus</td>\n",
       "      <td>1</td>\n",
       "    </tr>\n",
       "    <tr>\n",
       "      <th>Profane</th>\n",
       "      <td>9</td>\n",
       "      <td>9</td>\n",
       "      <td>you are a joke</td>\n",
       "      <td>1</td>\n",
       "    </tr>\n",
       "    <tr>\n",
       "      <th>SL</th>\n",
       "      <td>29</td>\n",
       "      <td>29</td>\n",
       "      <td>i am not able to understand logistic regression</td>\n",
       "      <td>1</td>\n",
       "    </tr>\n",
       "    <tr>\n",
       "      <th>Ticket</th>\n",
       "      <td>9</td>\n",
       "      <td>9</td>\n",
       "      <td>wasted my time</td>\n",
       "      <td>1</td>\n",
       "    </tr>\n",
       "  </tbody>\n",
       "</table>\n",
       "</div>"
      ],
      "text/plain": [
       "        count unique                                              top freq\n",
       "Tag                                                                       \n",
       "Bot         8      8                      what are your working hours    1\n",
       "Exit       16     16                                    see you later    1\n",
       "Intro      20     19                                        i am from    2\n",
       "NN         24     24                                          weights    1\n",
       "Olympus    13     13                             no access to olympus    1\n",
       "Profane     9      9                                   you are a joke    1\n",
       "SL         29     29  i am not able to understand logistic regression    1\n",
       "Ticket      9      9                                   wasted my time    1"
      ]
     },
     "execution_count": 145,
     "metadata": {},
     "output_type": "execute_result"
    }
   ],
   "source": [
    "#Just to see How many Patterns from each Tag :)\n",
    "df.groupby('Tag')['Patterns'].describe()"
   ]
  },
  {
   "cell_type": "code",
   "execution_count": 146,
   "metadata": {},
   "outputs": [],
   "source": [
    "#Here Taking the exact order from .json file so that I can directly pass it to \"data\" to get the Response\n",
    "# Ex : data['intents'][0]['responses']  will Give Resoponse related to Intro\n",
    "\n",
    "df['Tag'] = df['Tag'].map({'Intro': 0, 'Exit':1, 'Olympus':2, 'SL': 3, 'NN': 4, 'Bot':5,'Profane':6,'Ticket':7})"
   ]
  },
  {
   "cell_type": "code",
   "execution_count": null,
   "metadata": {},
   "outputs": [],
   "source": []
  },
  {
   "cell_type": "code",
   "execution_count": 147,
   "metadata": {},
   "outputs": [],
   "source": [
    "#Taking Entire Data ..Its Overfitting in 2 sec :)....So Splitting \n",
    "x_train, x_test, y_train, y_test = train_test_split(df['Patterns'],df['Tag'],test_size=0.1, random_state=10)"
   ]
  },
  {
   "cell_type": "code",
   "execution_count": 148,
   "metadata": {},
   "outputs": [],
   "source": [
    "#Preparing Data for the Neural Net -- Here I am Planning to Use TFidfVectorizer\n",
    "#Here i see no need to clean the data as its clean\n",
    "#Used TFIDF as it as it not only focuses on frequency of words present in the corpus but importance of words in all docs.\n",
    "tf_idf = TfidfVectorizer()\n",
    "x_train = tf_idf.fit_transform(x_train)\n",
    "x_test = tf_idf.transform(x_test)\n",
    "y_train = tf.keras.utils.to_categorical(y_train)\n",
    "y_test = tf.keras.utils.to_categorical(y_test)"
   ]
  },
  {
   "cell_type": "code",
   "execution_count": 151,
   "metadata": {},
   "outputs": [
    {
     "data": {
      "text/plain": [
       "(115, 147)"
      ]
     },
     "execution_count": 151,
     "metadata": {},
     "output_type": "execute_result"
    }
   ],
   "source": [
    "x_train.shape"
   ]
  },
  {
   "cell_type": "code",
   "execution_count": 236,
   "metadata": {},
   "outputs": [
    {
     "name": "stdout",
     "output_type": "stream",
     "text": [
      "Train on 115 samples, validate on 13 samples\n",
      "Epoch 1/100\n",
      "115/115 [==============================] - 8s 71ms/sample - loss: 2.0967 - acc: 0.1130 - val_loss: 2.0462 - val_acc: 0.1538\n",
      "Epoch 2/100\n",
      "115/115 [==============================] - 1s 9ms/sample - loss: 1.9982 - acc: 0.2348 - val_loss: 2.0092 - val_acc: 0.1538\n",
      "Epoch 3/100\n",
      "115/115 [==============================] - 1s 9ms/sample - loss: 1.9527 - acc: 0.2870 - val_loss: 1.9777 - val_acc: 0.2308\n",
      "Epoch 4/100\n",
      "115/115 [==============================] - 1s 9ms/sample - loss: 1.8730 - acc: 0.3043 - val_loss: 1.9152 - val_acc: 0.3077\n",
      "Epoch 5/100\n",
      "115/115 [==============================] - 1s 9ms/sample - loss: 1.8025 - acc: 0.2783 - val_loss: 1.8024 - val_acc: 0.3077\n",
      "Epoch 6/100\n",
      "115/115 [==============================] - 1s 9ms/sample - loss: 1.6824 - acc: 0.3565 - val_loss: 1.7115 - val_acc: 0.3077\n",
      "Epoch 7/100\n",
      "115/115 [==============================] - 1s 9ms/sample - loss: 1.5466 - acc: 0.4348 - val_loss: 1.6361 - val_acc: 0.2308\n",
      "Epoch 8/100\n",
      "115/115 [==============================] - 1s 9ms/sample - loss: 1.5122 - acc: 0.4348 - val_loss: 1.5463 - val_acc: 0.2308\n",
      "Epoch 9/100\n",
      "115/115 [==============================] - 1s 9ms/sample - loss: 1.3404 - acc: 0.4870 - val_loss: 1.4360 - val_acc: 0.3077\n",
      "Epoch 10/100\n",
      "115/115 [==============================] - 1s 9ms/sample - loss: 1.2224 - acc: 0.5478 - val_loss: 1.4126 - val_acc: 0.3077\n",
      "Epoch 11/100\n",
      "115/115 [==============================] - 1s 9ms/sample - loss: 1.0611 - acc: 0.6174 - val_loss: 1.3132 - val_acc: 0.3846\n",
      "Epoch 12/100\n",
      "115/115 [==============================] - 1s 9ms/sample - loss: 1.0505 - acc: 0.6870 - val_loss: 1.2772 - val_acc: 0.4615\n",
      "Epoch 13/100\n",
      "115/115 [==============================] - 1s 9ms/sample - loss: 0.8978 - acc: 0.6957 - val_loss: 1.2099 - val_acc: 0.5385\n",
      "Epoch 14/100\n",
      "115/115 [==============================] - 1s 9ms/sample - loss: 0.8210 - acc: 0.7304 - val_loss: 1.1849 - val_acc: 0.6154\n",
      "Epoch 15/100\n",
      "115/115 [==============================] - 1s 9ms/sample - loss: 0.7293 - acc: 0.7652 - val_loss: 1.1836 - val_acc: 0.6923\n",
      "Epoch 16/100\n",
      "115/115 [==============================] - 1s 9ms/sample - loss: 0.6915 - acc: 0.7739 - val_loss: 1.1942 - val_acc: 0.6923\n",
      "Epoch 17/100\n",
      "115/115 [==============================] - 1s 9ms/sample - loss: 0.6089 - acc: 0.7826 - val_loss: 1.2434 - val_acc: 0.6923\n",
      "Epoch 18/100\n",
      "115/115 [==============================] - 1s 9ms/sample - loss: 0.5143 - acc: 0.8435 - val_loss: 1.2641 - val_acc: 0.6154\n",
      "Epoch 19/100\n",
      "115/115 [==============================] - 1s 9ms/sample - loss: 0.5748 - acc: 0.8174 - val_loss: 1.2003 - val_acc: 0.6154\n",
      "Epoch 20/100\n",
      "115/115 [==============================] - 1s 9ms/sample - loss: 0.4942 - acc: 0.8348 - val_loss: 1.1520 - val_acc: 0.6923\n",
      "Epoch 21/100\n",
      "115/115 [==============================] - 1s 9ms/sample - loss: 0.3620 - acc: 0.9130 - val_loss: 1.1808 - val_acc: 0.7692\n",
      "Epoch 22/100\n",
      "115/115 [==============================] - 1s 10ms/sample - loss: 0.4296 - acc: 0.8870 - val_loss: 1.1437 - val_acc: 0.7692\n",
      "Epoch 23/100\n",
      "115/115 [==============================] - 1s 9ms/sample - loss: 0.3924 - acc: 0.8435 - val_loss: 1.1695 - val_acc: 0.6923\n",
      "Epoch 24/100\n",
      "115/115 [==============================] - 1s 9ms/sample - loss: 0.3844 - acc: 0.8957 - val_loss: 1.2298 - val_acc: 0.6923\n",
      "Epoch 25/100\n",
      "115/115 [==============================] - 1s 9ms/sample - loss: 0.3683 - acc: 0.8870 - val_loss: 1.1295 - val_acc: 0.6923\n",
      "Epoch 26/100\n",
      "115/115 [==============================] - 1s 9ms/sample - loss: 0.3022 - acc: 0.9130 - val_loss: 1.1282 - val_acc: 0.6923\n",
      "Epoch 27/100\n",
      "115/115 [==============================] - 1s 9ms/sample - loss: 0.3641 - acc: 0.8522 - val_loss: 1.1892 - val_acc: 0.6923\n",
      "Epoch 28/100\n",
      "115/115 [==============================] - 1s 8ms/sample - loss: 0.2087 - acc: 0.9565 - val_loss: 1.1471 - val_acc: 0.6923\n",
      "Epoch 29/100\n",
      "115/115 [==============================] - 1s 9ms/sample - loss: 0.2872 - acc: 0.9130 - val_loss: 1.2401 - val_acc: 0.6923\n",
      "Epoch 30/100\n",
      "115/115 [==============================] - 1s 9ms/sample - loss: 0.2075 - acc: 0.9565 - val_loss: 1.2165 - val_acc: 0.6923\n",
      "Epoch 31/100\n",
      "115/115 [==============================] - 1s 8ms/sample - loss: 0.2545 - acc: 0.8957 - val_loss: 1.2323 - val_acc: 0.6923\n",
      "Epoch 32/100\n",
      "115/115 [==============================] - 1s 9ms/sample - loss: 0.2387 - acc: 0.9304 - val_loss: 1.1336 - val_acc: 0.6923\n",
      "Epoch 33/100\n",
      "115/115 [==============================] - 1s 8ms/sample - loss: 0.2176 - acc: 0.9478 - val_loss: 1.1942 - val_acc: 0.6923\n",
      "Epoch 34/100\n",
      "115/115 [==============================] - 1s 8ms/sample - loss: 0.1690 - acc: 0.9652 - val_loss: 1.2221 - val_acc: 0.6923\n",
      "Epoch 35/100\n",
      "115/115 [==============================] - 1s 9ms/sample - loss: 0.2809 - acc: 0.8696 - val_loss: 1.2189 - val_acc: 0.6923\n",
      "Epoch 36/100\n",
      "115/115 [==============================] - 1s 8ms/sample - loss: 0.2710 - acc: 0.9217 - val_loss: 1.2352 - val_acc: 0.6923\n",
      "Epoch 37/100\n",
      "115/115 [==============================] - 1s 9ms/sample - loss: 0.1470 - acc: 0.9826 - val_loss: 1.2164 - val_acc: 0.6923\n",
      "Epoch 38/100\n",
      "115/115 [==============================] - 1s 8ms/sample - loss: 0.1463 - acc: 0.9739 - val_loss: 1.3073 - val_acc: 0.6923\n",
      "Epoch 39/100\n",
      "115/115 [==============================] - 1s 8ms/sample - loss: 0.2063 - acc: 0.9217 - val_loss: 1.1982 - val_acc: 0.6923\n",
      "Epoch 40/100\n",
      "115/115 [==============================] - 1s 8ms/sample - loss: 0.1591 - acc: 0.9565 - val_loss: 1.2738 - val_acc: 0.6923\n",
      "Epoch 41/100\n",
      "115/115 [==============================] - 1s 9ms/sample - loss: 0.0793 - acc: 0.9826 - val_loss: 1.2847 - val_acc: 0.6923\n",
      "Epoch 42/100\n",
      "115/115 [==============================] - 1s 9ms/sample - loss: 0.1826 - acc: 0.9304 - val_loss: 1.3268 - val_acc: 0.6923\n",
      "Epoch 43/100\n",
      "115/115 [==============================] - 1s 9ms/sample - loss: 0.1684 - acc: 0.9478 - val_loss: 1.2440 - val_acc: 0.6923\n",
      "Epoch 44/100\n",
      "115/115 [==============================] - 1s 9ms/sample - loss: 0.1776 - acc: 0.9130 - val_loss: 1.2516 - val_acc: 0.6923\n",
      "Epoch 45/100\n",
      "115/115 [==============================] - 1s 10ms/sample - loss: 0.0792 - acc: 0.9739 - val_loss: 1.2649 - val_acc: 0.6923\n",
      "Epoch 46/100\n",
      "115/115 [==============================] - 1s 9ms/sample - loss: 0.1340 - acc: 0.9478 - val_loss: 1.3252 - val_acc: 0.6923\n",
      "Epoch 47/100\n",
      "115/115 [==============================] - 1s 10ms/sample - loss: 0.0847 - acc: 0.9913 - val_loss: 1.2942 - val_acc: 0.6923\n",
      "Epoch 48/100\n",
      "115/115 [==============================] - 1s 9ms/sample - loss: 0.1120 - acc: 0.9652 - val_loss: 1.2804 - val_acc: 0.6923\n",
      "Epoch 49/100\n",
      "115/115 [==============================] - 1s 9ms/sample - loss: 0.0959 - acc: 0.9652 - val_loss: 1.2540 - val_acc: 0.6923\n",
      "Epoch 50/100\n",
      "115/115 [==============================] - 1s 9ms/sample - loss: 0.1618 - acc: 0.9391 - val_loss: 1.2301 - val_acc: 0.6923\n",
      "Epoch 51/100\n",
      "115/115 [==============================] - 1s 9ms/sample - loss: 0.1340 - acc: 0.9565 - val_loss: 1.2562 - val_acc: 0.6923\n",
      "Epoch 52/100\n",
      "115/115 [==============================] - 1s 9ms/sample - loss: 0.1444 - acc: 0.9739 - val_loss: 1.2755 - val_acc: 0.6923\n",
      "Epoch 53/100\n",
      "115/115 [==============================] - 1s 9ms/sample - loss: 0.0974 - acc: 0.9913 - val_loss: 1.2269 - val_acc: 0.6923\n",
      "Epoch 54/100\n",
      "115/115 [==============================] - 1s 9ms/sample - loss: 0.1981 - acc: 0.9565 - val_loss: 1.1290 - val_acc: 0.6923\n",
      "Epoch 55/100\n",
      "115/115 [==============================] - 1s 9ms/sample - loss: 0.1554 - acc: 0.9565 - val_loss: 1.1421 - val_acc: 0.6923\n",
      "Epoch 56/100\n",
      "115/115 [==============================] - 1s 9ms/sample - loss: 0.1813 - acc: 0.9130 - val_loss: 1.1472 - val_acc: 0.6923\n",
      "Epoch 57/100\n",
      "115/115 [==============================] - 1s 9ms/sample - loss: 0.1168 - acc: 0.9739 - val_loss: 1.1703 - val_acc: 0.6923\n",
      "Epoch 58/100\n",
      "115/115 [==============================] - 1s 9ms/sample - loss: 0.0799 - acc: 0.9826 - val_loss: 1.1717 - val_acc: 0.7692\n",
      "Epoch 59/100\n",
      "115/115 [==============================] - 1s 9ms/sample - loss: 0.1286 - acc: 0.9565 - val_loss: 1.0523 - val_acc: 0.7692\n",
      "Epoch 60/100\n",
      "115/115 [==============================] - 1s 9ms/sample - loss: 0.1351 - acc: 0.9652 - val_loss: 1.1406 - val_acc: 0.7692\n"
     ]
    },
    {
     "name": "stdout",
     "output_type": "stream",
     "text": [
      "Epoch 61/100\n",
      "115/115 [==============================] - 1s 9ms/sample - loss: 0.0983 - acc: 0.9478 - val_loss: 1.2387 - val_acc: 0.6923\n",
      "Epoch 62/100\n",
      "115/115 [==============================] - 1s 8ms/sample - loss: 0.1294 - acc: 0.9565 - val_loss: 1.2272 - val_acc: 0.6923\n",
      "Epoch 63/100\n",
      "115/115 [==============================] - 1s 9ms/sample - loss: 0.1731 - acc: 0.9217 - val_loss: 1.2108 - val_acc: 0.6923\n",
      "Epoch 64/100\n",
      "115/115 [==============================] - 1s 8ms/sample - loss: 0.0882 - acc: 0.9739 - val_loss: 1.3428 - val_acc: 0.6923\n",
      "Epoch 65/100\n",
      "115/115 [==============================] - 1s 8ms/sample - loss: 0.0628 - acc: 0.9913 - val_loss: 1.4009 - val_acc: 0.6923\n",
      "Epoch 66/100\n",
      "115/115 [==============================] - 1s 9ms/sample - loss: 0.1278 - acc: 0.9652 - val_loss: 1.3435 - val_acc: 0.6923\n",
      "Epoch 67/100\n",
      "115/115 [==============================] - 1s 9ms/sample - loss: 0.0740 - acc: 0.9826 - val_loss: 1.3536 - val_acc: 0.6923\n",
      "Epoch 68/100\n",
      "115/115 [==============================] - 1s 9ms/sample - loss: 0.0373 - acc: 0.9913 - val_loss: 1.2924 - val_acc: 0.7692\n",
      "Epoch 69/100\n",
      "115/115 [==============================] - 1s 9ms/sample - loss: 0.0434 - acc: 0.9913 - val_loss: 1.3039 - val_acc: 0.6923\n",
      "Epoch 70/100\n",
      "115/115 [==============================] - 1s 9ms/sample - loss: 0.0880 - acc: 0.9652 - val_loss: 1.4439 - val_acc: 0.6923\n",
      "Epoch 71/100\n",
      "115/115 [==============================] - 1s 9ms/sample - loss: 0.0644 - acc: 0.9826 - val_loss: 1.4429 - val_acc: 0.6923\n",
      "Epoch 72/100\n",
      "115/115 [==============================] - 1s 9ms/sample - loss: 0.1504 - acc: 0.9739 - val_loss: 1.4886 - val_acc: 0.7692\n",
      "Epoch 73/100\n",
      "115/115 [==============================] - 1s 9ms/sample - loss: 0.1664 - acc: 0.9652 - val_loss: 1.5123 - val_acc: 0.7692\n",
      "Epoch 74/100\n",
      "115/115 [==============================] - 1s 9ms/sample - loss: 0.2035 - acc: 0.9217 - val_loss: 1.5338 - val_acc: 0.6923\n",
      "Epoch 75/100\n",
      "115/115 [==============================] - 1s 9ms/sample - loss: 0.0602 - acc: 0.9652 - val_loss: 1.5322 - val_acc: 0.6923\n",
      "Epoch 76/100\n",
      "115/115 [==============================] - 1s 9ms/sample - loss: 0.0793 - acc: 0.9739 - val_loss: 1.5829 - val_acc: 0.6923\n",
      "Epoch 77/100\n",
      "115/115 [==============================] - 1s 9ms/sample - loss: 0.0754 - acc: 0.9739 - val_loss: 1.5154 - val_acc: 0.6923\n",
      "Epoch 78/100\n",
      "115/115 [==============================] - 1s 9ms/sample - loss: 0.0947 - acc: 0.9565 - val_loss: 1.5257 - val_acc: 0.6923\n",
      "Epoch 79/100\n",
      "115/115 [==============================] - 1s 9ms/sample - loss: 0.0513 - acc: 0.9826 - val_loss: 1.6230 - val_acc: 0.6923\n",
      "Epoch 80/100\n",
      "115/115 [==============================] - 1s 9ms/sample - loss: 0.0885 - acc: 0.9826 - val_loss: 1.5785 - val_acc: 0.6923\n",
      "Epoch 81/100\n",
      "115/115 [==============================] - 1s 9ms/sample - loss: 0.0664 - acc: 0.9652 - val_loss: 1.6946 - val_acc: 0.6923\n",
      "Epoch 82/100\n",
      "115/115 [==============================] - 1s 9ms/sample - loss: 0.0409 - acc: 0.9913 - val_loss: 1.5967 - val_acc: 0.6923\n",
      "Epoch 83/100\n",
      "115/115 [==============================] - 1s 9ms/sample - loss: 0.0181 - acc: 1.0000 - val_loss: 1.5965 - val_acc: 0.6923\n",
      "Epoch 84/100\n",
      "115/115 [==============================] - 1s 9ms/sample - loss: 0.0486 - acc: 0.9913 - val_loss: 1.6826 - val_acc: 0.6923\n",
      "Epoch 85/100\n",
      "115/115 [==============================] - 1s 9ms/sample - loss: 0.0329 - acc: 0.9913 - val_loss: 1.7565 - val_acc: 0.6923\n",
      "Epoch 86/100\n",
      "115/115 [==============================] - 1s 9ms/sample - loss: 0.0715 - acc: 0.9739 - val_loss: 1.9290 - val_acc: 0.6923\n",
      "Epoch 87/100\n",
      "115/115 [==============================] - 1s 9ms/sample - loss: 0.0486 - acc: 0.9826 - val_loss: 1.8001 - val_acc: 0.6923\n",
      "Epoch 88/100\n",
      "115/115 [==============================] - 1s 9ms/sample - loss: 0.0349 - acc: 0.9913 - val_loss: 1.7357 - val_acc: 0.6923\n",
      "Epoch 89/100\n",
      "115/115 [==============================] - 1s 9ms/sample - loss: 0.1011 - acc: 0.9652 - val_loss: 1.6015 - val_acc: 0.6923\n",
      "Epoch 90/100\n",
      "115/115 [==============================] - 1s 9ms/sample - loss: 0.0483 - acc: 0.9739 - val_loss: 1.5514 - val_acc: 0.7692\n",
      "Epoch 91/100\n",
      "115/115 [==============================] - 1s 9ms/sample - loss: 0.0680 - acc: 0.9826 - val_loss: 1.6555 - val_acc: 0.6923\n",
      "Epoch 92/100\n",
      "115/115 [==============================] - 1s 9ms/sample - loss: 0.0170 - acc: 0.9913 - val_loss: 1.7074 - val_acc: 0.6923\n",
      "Epoch 93/100\n",
      "115/115 [==============================] - 1s 9ms/sample - loss: 0.0795 - acc: 0.9652 - val_loss: 1.5981 - val_acc: 0.6923\n",
      "Epoch 94/100\n",
      "115/115 [==============================] - 1s 9ms/sample - loss: 0.0502 - acc: 0.9913 - val_loss: 1.3486 - val_acc: 0.6923\n",
      "Epoch 95/100\n",
      "115/115 [==============================] - 1s 9ms/sample - loss: 0.0734 - acc: 0.9826 - val_loss: 1.4931 - val_acc: 0.6923\n",
      "Epoch 96/100\n",
      "115/115 [==============================] - 1s 9ms/sample - loss: 0.0556 - acc: 0.9826 - val_loss: 1.5198 - val_acc: 0.7692\n",
      "Epoch 97/100\n",
      "115/115 [==============================] - 1s 9ms/sample - loss: 0.1302 - acc: 0.9565 - val_loss: 1.5940 - val_acc: 0.6923\n",
      "Epoch 98/100\n",
      "115/115 [==============================] - 1s 9ms/sample - loss: 0.0533 - acc: 0.9826 - val_loss: 1.5203 - val_acc: 0.6923\n",
      "Epoch 99/100\n",
      "115/115 [==============================] - 1s 9ms/sample - loss: 0.0864 - acc: 0.9652 - val_loss: 1.4751 - val_acc: 0.6923\n",
      "Epoch 100/100\n",
      "115/115 [==============================] - 1s 9ms/sample - loss: 0.0250 - acc: 1.0000 - val_loss: 1.4289 - val_acc: 0.6923\n"
     ]
    },
    {
     "data": {
      "text/plain": [
       "<tensorflow.python.keras.callbacks.History at 0x2cdec1c5588>"
      ]
     },
     "execution_count": 236,
     "metadata": {},
     "output_type": "execute_result"
    }
   ],
   "source": [
    "#Mode Preparation .....................\n",
    "model = tf.keras.Sequential()\n",
    "model.add(layers.Dense(64, input_shape=(x_train.toarray().shape[1],)))\n",
    "model.add(LeakyReLU(alpha=0.2))\n",
    "model.add(layers.Dropout(0.5))\n",
    "model.add(layers.Dense(32))\n",
    "model.add(LeakyReLU(alpha=0.2))\n",
    "model.add(layers.Dropout(0.5))\n",
    "model.add(layers.Dense(16))\n",
    "model.add(LeakyReLU(alpha=0.3))\n",
    "model.add(layers.Dropout(0.2))\n",
    "model.add(layers.Dense(df['Tag'].value_counts().shape[0], activation='softmax'))\n",
    "model.compile(loss='categorical_crossentropy', optimizer='adam', metrics=['accuracy']) \n",
    "ckpt_callback = tf.keras.callbacks.ModelCheckpoint(filepath='simple_chat_bot', save_best_only=True, verbose=False)\n",
    "model.fit(x_train.toarray(),y_train, epochs=100, batch_size=1, validation_data=(x_test.toarray(),y_test),verbose=1,callbacks=[ckpt_callback])"
   ]
  },
  {
   "cell_type": "code",
   "execution_count": 239,
   "metadata": {},
   "outputs": [
    {
     "name": "stdout",
     "output_type": "stream",
     "text": [
      "Train on 115 samples, validate on 13 samples\n",
      "Epoch 1/50\n",
      "115/115 [==============================] - 1s 7ms/sample - loss: 0.1133 - acc: 0.9565 - val_loss: 0.5467 - val_acc: 0.7692\n",
      "Epoch 2/50\n",
      "115/115 [==============================] - 1s 6ms/sample - loss: 0.1488 - acc: 0.9478 - val_loss: 0.5419 - val_acc: 0.8462\n",
      "Epoch 3/50\n",
      "115/115 [==============================] - 1s 6ms/sample - loss: 0.0698 - acc: 0.9826 - val_loss: 0.6325 - val_acc: 0.8462\n",
      "Epoch 4/50\n",
      "115/115 [==============================] - 1s 6ms/sample - loss: 0.0635 - acc: 0.9739 - val_loss: 0.6466 - val_acc: 0.7692\n",
      "Epoch 5/50\n",
      "115/115 [==============================] - 1s 6ms/sample - loss: 0.0702 - acc: 0.9826 - val_loss: 0.6215 - val_acc: 0.7692\n",
      "Epoch 6/50\n",
      "115/115 [==============================] - 1s 7ms/sample - loss: 0.0805 - acc: 0.9826 - val_loss: 0.6370 - val_acc: 0.7692\n",
      "Epoch 7/50\n",
      "115/115 [==============================] - 1s 8ms/sample - loss: 0.1160 - acc: 0.9652 - val_loss: 0.6537 - val_acc: 0.7692\n",
      "Epoch 8/50\n",
      "115/115 [==============================] - 1s 9ms/sample - loss: 0.0793 - acc: 0.9913 - val_loss: 0.6481 - val_acc: 0.7692\n",
      "Epoch 9/50\n",
      "115/115 [==============================] - 1s 9ms/sample - loss: 0.0719 - acc: 0.9739 - val_loss: 0.6548 - val_acc: 0.7692\n",
      "Epoch 10/50\n",
      "115/115 [==============================] - 1s 9ms/sample - loss: 0.1121 - acc: 0.9739 - val_loss: 0.7124 - val_acc: 0.7692\n",
      "Epoch 11/50\n",
      "115/115 [==============================] - 1s 9ms/sample - loss: 0.0539 - acc: 0.9826 - val_loss: 0.6369 - val_acc: 0.7692\n",
      "Epoch 12/50\n",
      "115/115 [==============================] - 1s 8ms/sample - loss: 0.0501 - acc: 0.9913 - val_loss: 0.6077 - val_acc: 0.7692\n",
      "Epoch 13/50\n",
      "115/115 [==============================] - 1s 8ms/sample - loss: 0.0650 - acc: 0.9826 - val_loss: 0.6161 - val_acc: 0.7692\n",
      "Epoch 14/50\n",
      "115/115 [==============================] - 1s 8ms/sample - loss: 0.1026 - acc: 0.9565 - val_loss: 0.6315 - val_acc: 0.7692\n",
      "Epoch 15/50\n",
      "115/115 [==============================] - 1s 8ms/sample - loss: 0.0757 - acc: 0.9739 - val_loss: 0.5921 - val_acc: 0.7692\n",
      "Epoch 16/50\n",
      "115/115 [==============================] - 1s 9ms/sample - loss: 0.0974 - acc: 0.9739 - val_loss: 0.7085 - val_acc: 0.7692\n",
      "Epoch 17/50\n",
      "115/115 [==============================] - 1s 9ms/sample - loss: 0.0845 - acc: 0.9913 - val_loss: 0.7458 - val_acc: 0.7692\n",
      "Epoch 18/50\n",
      "115/115 [==============================] - 1s 9ms/sample - loss: 0.1277 - acc: 0.9565 - val_loss: 0.6459 - val_acc: 0.7692\n",
      "Epoch 19/50\n",
      "115/115 [==============================] - 1s 9ms/sample - loss: 0.1166 - acc: 0.9565 - val_loss: 0.6233 - val_acc: 0.7692\n",
      "Epoch 20/50\n",
      "115/115 [==============================] - 1s 8ms/sample - loss: 0.0924 - acc: 0.9652 - val_loss: 0.5618 - val_acc: 0.8462\n",
      "Epoch 21/50\n",
      "115/115 [==============================] - 1s 8ms/sample - loss: 0.0398 - acc: 0.9826 - val_loss: 0.5967 - val_acc: 0.8462\n",
      "Epoch 22/50\n",
      "115/115 [==============================] - 1s 9ms/sample - loss: 0.0367 - acc: 0.9913 - val_loss: 0.5884 - val_acc: 0.7692\n",
      "Epoch 23/50\n",
      "115/115 [==============================] - 1s 9ms/sample - loss: 0.0802 - acc: 0.9652 - val_loss: 0.6354 - val_acc: 0.7692\n",
      "Epoch 24/50\n",
      "115/115 [==============================] - 1s 9ms/sample - loss: 0.0817 - acc: 0.9739 - val_loss: 0.8029 - val_acc: 0.7692\n",
      "Epoch 25/50\n",
      "115/115 [==============================] - 1s 9ms/sample - loss: 0.1095 - acc: 0.9565 - val_loss: 0.6947 - val_acc: 0.8462\n",
      "Epoch 26/50\n",
      "115/115 [==============================] - 1s 8ms/sample - loss: 0.0747 - acc: 0.9826 - val_loss: 0.6937 - val_acc: 0.7692\n",
      "Epoch 27/50\n",
      "115/115 [==============================] - 1s 8ms/sample - loss: 0.0501 - acc: 0.9913 - val_loss: 0.6446 - val_acc: 0.6923\n",
      "Epoch 28/50\n",
      "115/115 [==============================] - 1s 9ms/sample - loss: 0.0437 - acc: 0.9826 - val_loss: 0.5902 - val_acc: 0.7692\n",
      "Epoch 29/50\n",
      "115/115 [==============================] - 1s 9ms/sample - loss: 0.0689 - acc: 0.9826 - val_loss: 0.6545 - val_acc: 0.7692\n",
      "Epoch 30/50\n",
      "115/115 [==============================] - 1s 9ms/sample - loss: 0.0540 - acc: 0.9913 - val_loss: 0.6046 - val_acc: 0.8462\n",
      "Epoch 31/50\n",
      "115/115 [==============================] - 1s 9ms/sample - loss: 0.0554 - acc: 0.9826 - val_loss: 0.7293 - val_acc: 0.7692\n",
      "Epoch 32/50\n",
      "115/115 [==============================] - ETA: 0s - loss: 0.0171 - acc: 0.991 - 1s 9ms/sample - loss: 0.0165 - acc: 0.9913 - val_loss: 0.7498 - val_acc: 0.7692\n",
      "Epoch 33/50\n",
      "115/115 [==============================] - 1s 9ms/sample - loss: 0.0520 - acc: 0.9739 - val_loss: 0.6382 - val_acc: 0.7692\n",
      "Epoch 34/50\n",
      "115/115 [==============================] - 1s 9ms/sample - loss: 0.0419 - acc: 1.0000 - val_loss: 0.7090 - val_acc: 0.7692\n",
      "Epoch 35/50\n",
      "115/115 [==============================] - 1s 9ms/sample - loss: 0.0384 - acc: 0.9913 - val_loss: 0.6523 - val_acc: 0.7692\n",
      "Epoch 36/50\n",
      "115/115 [==============================] - 1s 9ms/sample - loss: 0.0632 - acc: 0.9739 - val_loss: 0.7076 - val_acc: 0.7692\n",
      "Epoch 37/50\n",
      "115/115 [==============================] - 1s 9ms/sample - loss: 0.0534 - acc: 0.9913 - val_loss: 0.7565 - val_acc: 0.7692\n",
      "Epoch 38/50\n",
      "115/115 [==============================] - 1s 9ms/sample - loss: 0.0693 - acc: 0.9913 - val_loss: 0.7896 - val_acc: 0.7692\n",
      "Epoch 39/50\n",
      "115/115 [==============================] - 1s 9ms/sample - loss: 0.0355 - acc: 0.9913 - val_loss: 0.6519 - val_acc: 0.7692\n",
      "Epoch 40/50\n",
      "115/115 [==============================] - 1s 8ms/sample - loss: 0.0842 - acc: 0.9652 - val_loss: 0.7103 - val_acc: 0.7692\n",
      "Epoch 41/50\n",
      "115/115 [==============================] - 1s 8ms/sample - loss: 0.0346 - acc: 0.9913 - val_loss: 0.7372 - val_acc: 0.7692\n",
      "Epoch 42/50\n",
      "115/115 [==============================] - 1s 9ms/sample - loss: 0.0575 - acc: 0.9739 - val_loss: 0.6822 - val_acc: 0.7692\n",
      "Epoch 43/50\n",
      "115/115 [==============================] - 1s 10ms/sample - loss: 0.0476 - acc: 0.9739 - val_loss: 0.6504 - val_acc: 0.7692\n",
      "Epoch 44/50\n",
      "115/115 [==============================] - 1s 9ms/sample - loss: 0.0333 - acc: 0.9826 - val_loss: 0.7031 - val_acc: 0.7692\n",
      "Epoch 45/50\n",
      "115/115 [==============================] - 1s 9ms/sample - loss: 0.0483 - acc: 0.9739 - val_loss: 0.6753 - val_acc: 0.7692\n",
      "Epoch 46/50\n",
      "115/115 [==============================] - 1s 9ms/sample - loss: 0.0269 - acc: 0.9913 - val_loss: 0.6325 - val_acc: 0.7692\n",
      "Epoch 47/50\n",
      "115/115 [==============================] - 1s 9ms/sample - loss: 0.0158 - acc: 1.0000 - val_loss: 0.6699 - val_acc: 0.7692\n",
      "Epoch 48/50\n",
      "115/115 [==============================] - 1s 9ms/sample - loss: 0.0499 - acc: 0.9826 - val_loss: 0.7184 - val_acc: 0.7692\n",
      "Epoch 49/50\n",
      "115/115 [==============================] - 1s 9ms/sample - loss: 0.0616 - acc: 0.9739 - val_loss: 0.6357 - val_acc: 0.7692\n",
      "Epoch 50/50\n",
      "115/115 [==============================] - 1s 8ms/sample - loss: 0.0273 - acc: 0.9913 - val_loss: 0.6646 - val_acc: 0.7692\n"
     ]
    },
    {
     "data": {
      "text/plain": [
       "<tensorflow.python.keras.callbacks.History at 0x2cde9916400>"
      ]
     },
     "execution_count": 239,
     "metadata": {},
     "output_type": "execute_result"
    }
   ],
   "source": [
    "#Further Running for Few More Epochs........................\n",
    "ckpt_callback = tf.keras.callbacks.ModelCheckpoint(filepath='simple_chat_bot', save_best_only=True, verbose=False)\n",
    "training = model.fit(x_train.toarray(),y_train, epochs=50, batch_size=1, validation_data=(x_test.toarray(),y_test),verbose=1,callbacks=[ckpt_callback])"
   ]
  },
  {
   "cell_type": "code",
   "execution_count": null,
   "metadata": {},
   "outputs": [],
   "source": []
  },
  {
   "cell_type": "code",
   "execution_count": 319,
   "metadata": {},
   "outputs": [
    {
     "name": "stdout",
     "output_type": "stream",
     "text": [
      "_________________________________________________________________\n",
      "Layer (type)                 Output Shape              Param #   \n",
      "=================================================================\n",
      "dense_215 (Dense)            (None, 64)                9472      \n",
      "_________________________________________________________________\n",
      "leaky_re_lu_66 (LeakyReLU)   (None, 64)                0         \n",
      "_________________________________________________________________\n",
      "dropout_118 (Dropout)        (None, 64)                0         \n",
      "_________________________________________________________________\n",
      "dense_216 (Dense)            (None, 32)                2080      \n",
      "_________________________________________________________________\n",
      "leaky_re_lu_67 (LeakyReLU)   (None, 32)                0         \n",
      "_________________________________________________________________\n",
      "dropout_119 (Dropout)        (None, 32)                0         \n",
      "_________________________________________________________________\n",
      "dense_217 (Dense)            (None, 16)                528       \n",
      "_________________________________________________________________\n",
      "leaky_re_lu_68 (LeakyReLU)   (None, 16)                0         \n",
      "_________________________________________________________________\n",
      "dropout_120 (Dropout)        (None, 16)                0         \n",
      "_________________________________________________________________\n",
      "dense_218 (Dense)            (None, 8)                 136       \n",
      "=================================================================\n",
      "Total params: 12,216\n",
      "Trainable params: 12,216\n",
      "Non-trainable params: 0\n",
      "_________________________________________________________________\n"
     ]
    }
   ],
   "source": [
    "#Just to check how the Model Looks\n",
    "model.summary()"
   ]
  },
  {
   "cell_type": "code",
   "execution_count": 241,
   "metadata": {},
   "outputs": [],
   "source": [
    "#model.save('simple_chat_bot')\n",
    "#Saved Model ....Getting 84.6 accuracy"
   ]
  },
  {
   "cell_type": "code",
   "execution_count": 320,
   "metadata": {},
   "outputs": [],
   "source": [
    "#Just for confirmation ..Loading the saved - 'simple_chat_bot' model\n",
    "model = tf.keras.models.load_model('simple_chat_bot')"
   ]
  },
  {
   "cell_type": "code",
   "execution_count": 242,
   "metadata": {},
   "outputs": [
    {
     "name": "stdout",
     "output_type": "stream",
     "text": [
      "\r",
      "13/13 [==============================] - 0s 504us/sample - loss: 0.5777 - acc: 0.8462\n"
     ]
    },
    {
     "data": {
      "text/plain": [
       "[0.5777449607849121, 0.84615386]"
      ]
     },
     "execution_count": 242,
     "metadata": {},
     "output_type": "execute_result"
    }
   ],
   "source": [
    "model.evaluate(x_test.toarray(),y_test)"
   ]
  },
  {
   "cell_type": "code",
   "execution_count": null,
   "metadata": {},
   "outputs": [],
   "source": []
  },
  {
   "cell_type": "code",
   "execution_count": null,
   "metadata": {},
   "outputs": [],
   "source": [
    "################################# I could have trained with entire data to get 100% Accuarcy but no way to Test Effeciency\n",
    "\n",
    "#..But because of splitting I can test and enchance my Model - #I found \"Leaky Relu\" performing better \n",
    "#as I seen few negative values in vectors generated by TfIdf\n",
    "\n",
    "#To Reduce the Overfit , I tried Reducing the 'Number of Neurons' and also introduced Dropouts, I want\n",
    "#to experiment more with the alpha value of the LeakyRelu but time dint permit .....\n",
    "\n",
    "\n",
    "################################ MAXIMUM VALIDATION ACCURACY : 84.6 "
   ]
  },
  {
   "cell_type": "code",
   "execution_count": null,
   "metadata": {},
   "outputs": [],
   "source": []
  },
  {
   "cell_type": "code",
   "execution_count": null,
   "metadata": {},
   "outputs": [],
   "source": []
  },
  {
   "cell_type": "code",
   "execution_count": null,
   "metadata": {},
   "outputs": [],
   "source": [
    "########Before Goint to ChatBot and Putting in to User Input and Response Let Us Write a Function and check it Manually \n",
    "##################### AT THIS POINT I Thought of Naming my Bot as \"Suprina\" :) ############################################"
   ]
  },
  {
   "cell_type": "code",
   "execution_count": null,
   "metadata": {},
   "outputs": [],
   "source": [
    "#My Function to Transoform a Given String and Give to Model and Find the Response from the Data :)\n",
    "def Chat(msg):\n",
    "    print(\"Suprina: \"+str(data['intents'][np.argmax(model.predict(tf_idf.transform([msg])))]['responses'])+\"\\n\")"
   ]
  },
  {
   "cell_type": "code",
   "execution_count": null,
   "metadata": {},
   "outputs": [],
   "source": []
  },
  {
   "cell_type": "code",
   "execution_count": 310,
   "metadata": {},
   "outputs": [
    {
     "name": "stdout",
     "output_type": "stream",
     "text": [
      "Suprina: ['Hello! how can i help you ?']\n"
     ]
    }
   ],
   "source": [
    "Chat(\"Hi How Are You\")"
   ]
  },
  {
   "cell_type": "code",
   "execution_count": 311,
   "metadata": {},
   "outputs": [
    {
     "name": "stdout",
     "output_type": "stream",
     "text": [
      "Suprina: ['Link: Machine Learning wiki ']\n"
     ]
    }
   ],
   "source": [
    "Chat(\"I dont understand svm\")"
   ]
  },
  {
   "cell_type": "code",
   "execution_count": 312,
   "metadata": {},
   "outputs": [
    {
     "name": "stdout",
     "output_type": "stream",
     "text": [
      "Suprina: ['Please use respectful words']\n"
     ]
    }
   ],
   "source": [
    "Chat(\"you are stupid\")"
   ]
  },
  {
   "cell_type": "code",
   "execution_count": 313,
   "metadata": {},
   "outputs": [
    {
     "name": "stdout",
     "output_type": "stream",
     "text": [
      "Suprina: ['I am your virtual learning assistant']\n"
     ]
    }
   ],
   "source": [
    "Chat(\"who are you\")"
   ]
  },
  {
   "cell_type": "code",
   "execution_count": 314,
   "metadata": {},
   "outputs": [
    {
     "name": "stdout",
     "output_type": "stream",
     "text": [
      "Suprina: ['Link: Neural Nets wiki']\n"
     ]
    }
   ],
   "source": [
    "Chat(\"How many epochs should I use\")"
   ]
  },
  {
   "cell_type": "code",
   "execution_count": 315,
   "metadata": {},
   "outputs": [
    {
     "name": "stdout",
     "output_type": "stream",
     "text": [
      "Suprina: ['I am your virtual learning assistant']\n"
     ]
    }
   ],
   "source": [
    "Chat(\"Are you Human\")"
   ]
  },
  {
   "cell_type": "code",
   "execution_count": 316,
   "metadata": {},
   "outputs": [
    {
     "name": "stdout",
     "output_type": "stream",
     "text": [
      "Suprina: ['I am your virtual learning assistant']\n"
     ]
    }
   ],
   "source": [
    "Chat(\"are you female\")"
   ]
  },
  {
   "cell_type": "code",
   "execution_count": 309,
   "metadata": {},
   "outputs": [
    {
     "name": "stdout",
     "output_type": "stream",
     "text": [
      "Suprina: ['I hope I was able to assist you, Good Bye']\n"
     ]
    }
   ],
   "source": [
    "#####  HERE SHE RAN AWAY ......................\n",
    "Chat(\"will you marry me\")"
   ]
  },
  {
   "cell_type": "code",
   "execution_count": null,
   "metadata": {},
   "outputs": [],
   "source": []
  },
  {
   "cell_type": "code",
   "execution_count": null,
   "metadata": {},
   "outputs": [],
   "source": [
    "#########################################################################################################################"
   ]
  },
  {
   "cell_type": "code",
   "execution_count": null,
   "metadata": {},
   "outputs": [],
   "source": [
    "############## RUNNING AN INFINTE LOOP --- JUST TO GET THE FEEL OF A BOT ....."
   ]
  },
  {
   "cell_type": "code",
   "execution_count": null,
   "metadata": {},
   "outputs": [],
   "source": [
    "########################################################################################################################"
   ]
  },
  {
   "cell_type": "code",
   "execution_count": 337,
   "metadata": {},
   "outputs": [
    {
     "name": "stdout",
     "output_type": "stream",
     "text": [
      "______________________________________________________________________________\n",
      "Suprina(Your Virtual Assistance) 'Quit' to stop the conversation\\n\n",
      "______________________________________________________________________________\n",
      "\n",
      "\n",
      "You:Hi Suprina how you doing\n",
      "Suprina: ['Hello! how can i help you ?']\n",
      "\n",
      "\n",
      "You:what is difference between bagging and boosting\n",
      "Suprina: ['Link: Machine Learning wiki ']\n",
      "\n",
      "\n",
      "You:screw you\n",
      "Suprina: ['Please use respectful words']\n",
      "\n",
      "\n",
      "You:are you female \n",
      "Suprina: ['I am your virtual learning assistant']\n",
      "\n",
      "\n",
      "You:you are useless bot\n",
      "Suprina: ['Tarnsferring the request to your PM']\n",
      "\n",
      "\n",
      "You:I love you\n",
      "Suprina: ['I hope I was able to assist you, Good Bye']\n",
      "\n",
      "\n",
      "You:quit\n"
     ]
    }
   ],
   "source": [
    "print(\"______________________________________________________________________________\")\n",
    "print(r\"Suprina(Your Virtual Assistance) 'Quit' to stop the conversation\\n\")\n",
    "print(\"______________________________________________________________________________\")\n",
    "\n",
    "while(True):\n",
    "    print(\"\\n\")\n",
    "    usr_resp = input(\"You:\")\n",
    "        \n",
    "    if(usr_resp =='quit'):        \n",
    "        break\n",
    "        \n",
    "    Chat(usr_resp)    \n",
    "            "
   ]
  },
  {
   "cell_type": "code",
   "execution_count": null,
   "metadata": {},
   "outputs": [],
   "source": []
  },
  {
   "cell_type": "code",
   "execution_count": null,
   "metadata": {},
   "outputs": [],
   "source": [
    "#Used only basic TFIDF --- Time dint permit to use others....The Ideas was to use Word2vec and replace the words the \n",
    "#Sentence with vectors for each word that word2vec generates and then pass this vectors to Neural Net or CNN as I did\n",
    "#n the part one of project but really out of time ....... \n",
    "\n",
    "#ALSO COULD NOT ADD TO THE CORPUS(.json) file given by GL.......Well its difficult as my linguistic skills are not great :)\n",
    "#Model for sure will perfom better with more things added to Corpus....\n",
    "\n",
    "#Here the myth that Neural Nets need a huge data to get things working is also addressed ........ :)\n"
   ]
  }
 ],
 "metadata": {
  "kernelspec": {
   "display_name": "Python 3",
   "language": "python",
   "name": "python3"
  },
  "language_info": {
   "codemirror_mode": {
    "name": "ipython",
    "version": 3
   },
   "file_extension": ".py",
   "mimetype": "text/x-python",
   "name": "python",
   "nbconvert_exporter": "python",
   "pygments_lexer": "ipython3",
   "version": "3.7.3"
  }
 },
 "nbformat": 4,
 "nbformat_minor": 4
}
